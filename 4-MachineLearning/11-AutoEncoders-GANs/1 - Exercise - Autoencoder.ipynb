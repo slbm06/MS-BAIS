{
 "cells": [
  {
   "cell_type": "markdown",
   "metadata": {},
   "source": [
    "# Exercise - Autoencoder"
   ]
  },
  {
   "cell_type": "markdown",
   "metadata": {},
   "source": [
    "The data set for this exercise is from the banking industry. It contains data about the home loans of 2,500 bank clients. Each row represents a single loan. The columns include the characteristics of the client who used a loan. We will build an autoencoder to learn the representation of good loans. That way, we can see if an unknown loan will be a good or bad loan based on its reconstruction error.  \n",
    "\n",
    "Note: in the data set, we don't have a column that indicates whether a loan is \"good\" or \"bad\". So, we can't train a classification model like we did before."
   ]
  },
  {
   "cell_type": "markdown",
   "metadata": {},
   "source": [
    "## Description of Variables\n",
    "\n",
    "The description of variables are provided in \"Loan - Data Dictionary.docx\""
   ]
  },
  {
   "cell_type": "markdown",
   "metadata": {},
   "source": [
    "# Read and Prepare the Data"
   ]
  },
  {
   "cell_type": "code",
   "execution_count": 1,
   "metadata": {},
   "outputs": [],
   "source": [
    "# Common imports\n",
    "\n",
    "import pandas as pd\n",
    "import numpy as np\n",
    "\n",
    "np.random.seed(42)"
   ]
  },
  {
   "cell_type": "markdown",
   "metadata": {},
   "source": [
    "# Get the data"
   ]
  },
  {
   "cell_type": "code",
   "execution_count": 2,
   "metadata": {},
   "outputs": [],
   "source": [
    "good = pd.read_csv('good loans.csv')\n",
    "\n",
    "unknown = pd.read_csv('unknown loans.csv')"
   ]
  },
  {
   "cell_type": "code",
   "execution_count": 3,
   "metadata": {},
   "outputs": [
    {
     "data": {
      "text/html": [
       "<div>\n",
       "<style scoped>\n",
       "    .dataframe tbody tr th:only-of-type {\n",
       "        vertical-align: middle;\n",
       "    }\n",
       "\n",
       "    .dataframe tbody tr th {\n",
       "        vertical-align: top;\n",
       "    }\n",
       "\n",
       "    .dataframe thead th {\n",
       "        text-align: right;\n",
       "    }\n",
       "</style>\n",
       "<table border=\"1\" class=\"dataframe\">\n",
       "  <thead>\n",
       "    <tr style=\"text-align: right;\">\n",
       "      <th></th>\n",
       "      <th>LOAN</th>\n",
       "      <th>MORTDUE</th>\n",
       "      <th>VALUE</th>\n",
       "      <th>REASON</th>\n",
       "      <th>JOB</th>\n",
       "      <th>YOJ</th>\n",
       "      <th>DEROG</th>\n",
       "      <th>DELINQ</th>\n",
       "      <th>CLAGE</th>\n",
       "      <th>NINQ</th>\n",
       "      <th>CLNO</th>\n",
       "      <th>DEBTINC</th>\n",
       "    </tr>\n",
       "  </thead>\n",
       "  <tbody>\n",
       "    <tr>\n",
       "      <th>0</th>\n",
       "      <td>25900</td>\n",
       "      <td>61064.0</td>\n",
       "      <td>94714.0</td>\n",
       "      <td>DebtCon</td>\n",
       "      <td>Office</td>\n",
       "      <td>2.0</td>\n",
       "      <td>0.0</td>\n",
       "      <td>0.0</td>\n",
       "      <td>98.809375</td>\n",
       "      <td>0.0</td>\n",
       "      <td>23.0</td>\n",
       "      <td>34.565944</td>\n",
       "    </tr>\n",
       "    <tr>\n",
       "      <th>1</th>\n",
       "      <td>26100</td>\n",
       "      <td>113266.0</td>\n",
       "      <td>182082.0</td>\n",
       "      <td>DebtCon</td>\n",
       "      <td>Sales</td>\n",
       "      <td>18.0</td>\n",
       "      <td>0.0</td>\n",
       "      <td>0.0</td>\n",
       "      <td>304.852469</td>\n",
       "      <td>1.0</td>\n",
       "      <td>31.0</td>\n",
       "      <td>33.193949</td>\n",
       "    </tr>\n",
       "    <tr>\n",
       "      <th>2</th>\n",
       "      <td>20900</td>\n",
       "      <td>62615.0</td>\n",
       "      <td>87904.0</td>\n",
       "      <td>DebtCon</td>\n",
       "      <td>Office</td>\n",
       "      <td>5.0</td>\n",
       "      <td>NaN</td>\n",
       "      <td>NaN</td>\n",
       "      <td>177.864849</td>\n",
       "      <td>NaN</td>\n",
       "      <td>15.0</td>\n",
       "      <td>36.831076</td>\n",
       "    </tr>\n",
       "    <tr>\n",
       "      <th>3</th>\n",
       "      <td>25300</td>\n",
       "      <td>62540.0</td>\n",
       "      <td>101165.0</td>\n",
       "      <td>DebtCon</td>\n",
       "      <td>ProfExe</td>\n",
       "      <td>0.0</td>\n",
       "      <td>0.0</td>\n",
       "      <td>0.0</td>\n",
       "      <td>195.451331</td>\n",
       "      <td>0.0</td>\n",
       "      <td>25.0</td>\n",
       "      <td>35.200865</td>\n",
       "    </tr>\n",
       "    <tr>\n",
       "      <th>4</th>\n",
       "      <td>27700</td>\n",
       "      <td>73148.0</td>\n",
       "      <td>101462.0</td>\n",
       "      <td>DebtCon</td>\n",
       "      <td>ProfExe</td>\n",
       "      <td>10.0</td>\n",
       "      <td>0.0</td>\n",
       "      <td>0.0</td>\n",
       "      <td>264.605389</td>\n",
       "      <td>0.0</td>\n",
       "      <td>33.0</td>\n",
       "      <td>40.475793</td>\n",
       "    </tr>\n",
       "  </tbody>\n",
       "</table>\n",
       "</div>"
      ],
      "text/plain": [
       "    LOAN   MORTDUE     VALUE   REASON      JOB   YOJ  DEROG  DELINQ  \\\n",
       "0  25900   61064.0   94714.0  DebtCon   Office   2.0    0.0     0.0   \n",
       "1  26100  113266.0  182082.0  DebtCon    Sales  18.0    0.0     0.0   \n",
       "2  20900   62615.0   87904.0  DebtCon   Office   5.0    NaN     NaN   \n",
       "3  25300   62540.0  101165.0  DebtCon  ProfExe   0.0    0.0     0.0   \n",
       "4  27700   73148.0  101462.0  DebtCon  ProfExe  10.0    0.0     0.0   \n",
       "\n",
       "        CLAGE  NINQ  CLNO    DEBTINC  \n",
       "0   98.809375   0.0  23.0  34.565944  \n",
       "1  304.852469   1.0  31.0  33.193949  \n",
       "2  177.864849   NaN  15.0  36.831076  \n",
       "3  195.451331   0.0  25.0  35.200865  \n",
       "4  264.605389   0.0  33.0  40.475793  "
      ]
     },
     "execution_count": 3,
     "metadata": {},
     "output_type": "execute_result"
    }
   ],
   "source": [
    "# Note that there is no GOOD/BAD classification. Though, we know that\n",
    "# these loans are good\n",
    "\n",
    "good.head()"
   ]
  },
  {
   "cell_type": "code",
   "execution_count": 4,
   "metadata": {},
   "outputs": [
    {
     "data": {
      "text/plain": [
       "(1489, 12)"
      ]
     },
     "execution_count": 4,
     "metadata": {},
     "output_type": "execute_result"
    }
   ],
   "source": [
    "good.shape"
   ]
  },
  {
   "cell_type": "code",
   "execution_count": 5,
   "metadata": {},
   "outputs": [
    {
     "data": {
      "text/plain": [
       "(1011, 12)"
      ]
     },
     "execution_count": 5,
     "metadata": {},
     "output_type": "execute_result"
    }
   ],
   "source": [
    "unknown.shape"
   ]
  },
  {
   "cell_type": "markdown",
   "metadata": {},
   "source": [
    "# Data Prep"
   ]
  },
  {
   "cell_type": "code",
   "execution_count": 6,
   "metadata": {},
   "outputs": [],
   "source": [
    "from sklearn.compose import ColumnTransformer\n",
    "from sklearn.pipeline import Pipeline\n",
    "from sklearn.impute import SimpleImputer\n",
    "from sklearn.preprocessing import StandardScaler\n",
    "from sklearn.preprocessing import OneHotEncoder"
   ]
  },
  {
   "cell_type": "markdown",
   "metadata": {},
   "source": [
    "##  Identify the numeric, binary, and categorical columns"
   ]
  },
  {
   "cell_type": "code",
   "execution_count": 7,
   "metadata": {},
   "outputs": [],
   "source": [
    "# Identify the numerical columns\n",
    "numeric_columns = good.select_dtypes(include=[np.number]).columns.to_list()\n",
    "\n",
    "# Identify the categorical columns\n",
    "categorical_columns = good.select_dtypes('object').columns.to_list()"
   ]
  },
  {
   "cell_type": "code",
   "execution_count": 8,
   "metadata": {},
   "outputs": [
    {
     "data": {
      "text/plain": [
       "['LOAN',\n",
       " 'MORTDUE',\n",
       " 'VALUE',\n",
       " 'YOJ',\n",
       " 'DEROG',\n",
       " 'DELINQ',\n",
       " 'CLAGE',\n",
       " 'NINQ',\n",
       " 'CLNO',\n",
       " 'DEBTINC']"
      ]
     },
     "execution_count": 8,
     "metadata": {},
     "output_type": "execute_result"
    }
   ],
   "source": [
    "numeric_columns"
   ]
  },
  {
   "cell_type": "code",
   "execution_count": 9,
   "metadata": {},
   "outputs": [
    {
     "data": {
      "text/plain": [
       "['REASON', 'JOB']"
      ]
     },
     "execution_count": 9,
     "metadata": {},
     "output_type": "execute_result"
    }
   ],
   "source": [
    "categorical_columns"
   ]
  },
  {
   "cell_type": "markdown",
   "metadata": {},
   "source": [
    "# Pipeline"
   ]
  },
  {
   "cell_type": "code",
   "execution_count": 10,
   "metadata": {},
   "outputs": [],
   "source": [
    "numeric_transformer = Pipeline(steps=[\n",
    "                ('imputer', SimpleImputer(strategy='median')),\n",
    "                ('scaler', StandardScaler())])"
   ]
  },
  {
   "cell_type": "code",
   "execution_count": 11,
   "metadata": {},
   "outputs": [],
   "source": [
    "categorical_transformer = Pipeline(steps=[\n",
    "    ('imputer', SimpleImputer(strategy='constant', fill_value='unknown')),\n",
    "    ('onehot', OneHotEncoder(handle_unknown='ignore'))])"
   ]
  },
  {
   "cell_type": "code",
   "execution_count": 12,
   "metadata": {},
   "outputs": [],
   "source": [
    "preprocessor = ColumnTransformer([\n",
    "        ('num', numeric_transformer, numeric_columns),\n",
    "        ('cat', categorical_transformer, categorical_columns)],   \n",
    "        remainder='passthrough')\n",
    "\n",
    "#passtrough is an optional step. You don't have to use it."
   ]
  },
  {
   "cell_type": "markdown",
   "metadata": {},
   "source": [
    "# Transform: fit_transform() for GOOD"
   ]
  },
  {
   "cell_type": "code",
   "execution_count": 13,
   "metadata": {},
   "outputs": [
    {
     "data": {
      "text/plain": [
       "array([[ 0.6365782 , -0.29793911, -0.12177109, ...,  0.        ,\n",
       "         0.        ,  0.        ],\n",
       "       [ 0.6546228 ,  1.02893596,  1.62034212, ...,  1.        ,\n",
       "         0.        ,  0.        ],\n",
       "       [ 0.18546313, -0.25851565, -0.25756212, ...,  0.        ,\n",
       "         0.        ,  0.        ],\n",
       "       ...,\n",
       "       [ 4.18234262, -0.04383447,  0.81444926, ...,  0.        ,\n",
       "         0.        ,  0.        ],\n",
       "       [-1.30321659, -0.47828045, -0.73681873, ...,  0.        ,\n",
       "         0.        ,  0.        ],\n",
       "       [ 0.03208401, -0.46521555, -0.38146895, ...,  0.        ,\n",
       "         0.        ,  0.        ]])"
      ]
     },
     "execution_count": 13,
     "metadata": {},
     "output_type": "execute_result"
    }
   ],
   "source": [
    "#Fit and transform the train data\n",
    "good_x = preprocessor.fit_transform(good)\n",
    "\n",
    "good_x"
   ]
  },
  {
   "cell_type": "code",
   "execution_count": 14,
   "metadata": {},
   "outputs": [
    {
     "data": {
      "text/plain": [
       "(1489, 20)"
      ]
     },
     "execution_count": 14,
     "metadata": {},
     "output_type": "execute_result"
    }
   ],
   "source": [
    "good_x.shape"
   ]
  },
  {
   "cell_type": "markdown",
   "metadata": {},
   "source": [
    "# Tranform: transform() for UNKNOWN"
   ]
  },
  {
   "cell_type": "code",
   "execution_count": 15,
   "metadata": {},
   "outputs": [
    {
     "data": {
      "text/plain": [
       "array([[ 2.81095281,  3.755331  ,  3.98956663, ...,  0.        ,\n",
       "         1.        ,  0.        ],\n",
       "       [ 0.32079765, -0.54180025, -0.65167516, ...,  0.        ,\n",
       "         0.        ,  0.        ],\n",
       "       [ 0.19448543,  0.59006724,  0.48213012, ...,  1.        ,\n",
       "         0.        ,  0.        ],\n",
       "       ...,\n",
       "       [-0.79796772,  0.05628738,  0.05541527, ...,  0.        ,\n",
       "         0.        ,  0.        ],\n",
       "       [-0.16640662, -0.510536  , -0.45504735, ...,  0.        ,\n",
       "         0.        ,  0.        ],\n",
       "       [-0.81601232, -0.92230904, -0.93360606, ...,  0.        ,\n",
       "         0.        ,  0.        ]])"
      ]
     },
     "execution_count": 15,
     "metadata": {},
     "output_type": "execute_result"
    }
   ],
   "source": [
    "# Transform the test data\n",
    "unknown_x = preprocessor.transform(unknown)\n",
    "\n",
    "unknown_x"
   ]
  },
  {
   "cell_type": "code",
   "execution_count": 16,
   "metadata": {},
   "outputs": [
    {
     "data": {
      "text/plain": [
       "(1011, 20)"
      ]
     },
     "execution_count": 16,
     "metadata": {},
     "output_type": "execute_result"
    }
   ],
   "source": [
    "unknown_x.shape"
   ]
  },
  {
   "cell_type": "markdown",
   "metadata": {},
   "source": [
    "# Build an Autoencoder to learn the representation of GOOD loans"
   ]
  },
  {
   "cell_type": "code",
   "execution_count": 17,
   "metadata": {},
   "outputs": [
    {
     "name": "stdout",
     "output_type": "stream",
     "text": [
      "Model: \"sequential\"\n",
      "_________________________________________________________________\n",
      " Layer (type)                Output Shape              Param #   \n",
      "=================================================================\n",
      " dense (Dense)               (None, 15)                315       \n",
      "                                                                 \n",
      " dense_1 (Dense)             (None, 10)                160       \n",
      "                                                                 \n",
      " dense_2 (Dense)             (None, 5)                 55        \n",
      "                                                                 \n",
      " dense_3 (Dense)             (None, 10)                60        \n",
      "                                                                 \n",
      " dense_4 (Dense)             (None, 20)                220       \n",
      "                                                                 \n",
      "=================================================================\n",
      "Total params: 810\n",
      "Trainable params: 810\n",
      "Non-trainable params: 0\n",
      "_________________________________________________________________\n"
     ]
    }
   ],
   "source": [
    "import tensorflow as tf\n",
    "from tensorflow import keras\n",
    "\n",
    "model = keras.models.Sequential()\n",
    "\n",
    "#Encoder\n",
    "model.add(keras.layers.InputLayer(input_shape=20))\n",
    "model.add(keras.layers.Dense(15, activation='relu')) \n",
    "model.add(keras.layers.Dense(10, activation='relu')) \n",
    "model.add(keras.layers.Dense(5, activation='relu')) \n",
    "\n",
    "#Decoder\n",
    "model.add(keras.layers.Dense(10, activation='relu')) \n",
    "model.add(keras.layers.Dense(20, activation=None)) \n",
    "\n",
    "model.summary()"
   ]
  },
  {
   "cell_type": "code",
   "execution_count": 18,
   "metadata": {},
   "outputs": [],
   "source": [
    "adam = keras.optimizers.Adam(learning_rate=0.001)\n",
    "\n",
    "\n",
    "model.compile(loss='mse', optimizer='Nadam', metrics=['mean_squared_error'])"
   ]
  },
  {
   "cell_type": "code",
   "execution_count": 19,
   "metadata": {},
   "outputs": [],
   "source": [
    "from tensorflow.keras.callbacks import EarlyStopping\n",
    "\n",
    "earlystop = EarlyStopping(monitor='val_loss', patience=5, verbose=1, mode='auto')\n",
    "\n",
    "callback = [earlystop]"
   ]
  },
  {
   "cell_type": "code",
   "execution_count": 20,
   "metadata": {},
   "outputs": [
    {
     "name": "stdout",
     "output_type": "stream",
     "text": [
      "Epoch 1/100\n",
      "15/15 [==============================] - 1s 13ms/step - loss: 0.6019 - mean_squared_error: 0.6019 - val_loss: 0.5923 - val_mean_squared_error: 0.5923\n",
      "Epoch 2/100\n",
      "15/15 [==============================] - 0s 5ms/step - loss: 0.5862 - mean_squared_error: 0.5862 - val_loss: 0.5784 - val_mean_squared_error: 0.5784\n",
      "Epoch 3/100\n",
      "15/15 [==============================] - 0s 4ms/step - loss: 0.5721 - mean_squared_error: 0.5721 - val_loss: 0.5641 - val_mean_squared_error: 0.5641\n",
      "Epoch 4/100\n",
      "15/15 [==============================] - 0s 4ms/step - loss: 0.5576 - mean_squared_error: 0.5576 - val_loss: 0.5491 - val_mean_squared_error: 0.5491\n",
      "Epoch 5/100\n",
      "15/15 [==============================] - 0s 4ms/step - loss: 0.5426 - mean_squared_error: 0.5426 - val_loss: 0.5345 - val_mean_squared_error: 0.5345\n",
      "Epoch 6/100\n",
      "15/15 [==============================] - 0s 4ms/step - loss: 0.5282 - mean_squared_error: 0.5282 - val_loss: 0.5200 - val_mean_squared_error: 0.5200\n",
      "Epoch 7/100\n",
      "15/15 [==============================] - 0s 4ms/step - loss: 0.5138 - mean_squared_error: 0.5138 - val_loss: 0.5059 - val_mean_squared_error: 0.5059\n",
      "Epoch 8/100\n",
      "15/15 [==============================] - 0s 4ms/step - loss: 0.5000 - mean_squared_error: 0.5000 - val_loss: 0.4924 - val_mean_squared_error: 0.4924\n",
      "Epoch 9/100\n",
      "15/15 [==============================] - 0s 4ms/step - loss: 0.4867 - mean_squared_error: 0.4867 - val_loss: 0.4792 - val_mean_squared_error: 0.4792\n",
      "Epoch 10/100\n",
      "15/15 [==============================] - 0s 4ms/step - loss: 0.4736 - mean_squared_error: 0.4736 - val_loss: 0.4662 - val_mean_squared_error: 0.4662\n",
      "Epoch 11/100\n",
      "15/15 [==============================] - 0s 4ms/step - loss: 0.4608 - mean_squared_error: 0.4608 - val_loss: 0.4537 - val_mean_squared_error: 0.4537\n",
      "Epoch 12/100\n",
      "15/15 [==============================] - 0s 4ms/step - loss: 0.4486 - mean_squared_error: 0.4486 - val_loss: 0.4417 - val_mean_squared_error: 0.4417\n",
      "Epoch 13/100\n",
      "15/15 [==============================] - 0s 4ms/step - loss: 0.4370 - mean_squared_error: 0.4370 - val_loss: 0.4304 - val_mean_squared_error: 0.4304\n",
      "Epoch 14/100\n",
      "15/15 [==============================] - 0s 4ms/step - loss: 0.4261 - mean_squared_error: 0.4261 - val_loss: 0.4201 - val_mean_squared_error: 0.4201\n",
      "Epoch 15/100\n",
      "15/15 [==============================] - 0s 4ms/step - loss: 0.4160 - mean_squared_error: 0.4160 - val_loss: 0.4103 - val_mean_squared_error: 0.4103\n",
      "Epoch 16/100\n",
      "15/15 [==============================] - 0s 4ms/step - loss: 0.4067 - mean_squared_error: 0.4067 - val_loss: 0.4012 - val_mean_squared_error: 0.4012\n",
      "Epoch 17/100\n",
      "15/15 [==============================] - 0s 4ms/step - loss: 0.3979 - mean_squared_error: 0.3979 - val_loss: 0.3926 - val_mean_squared_error: 0.3926\n",
      "Epoch 18/100\n",
      "15/15 [==============================] - 0s 4ms/step - loss: 0.3895 - mean_squared_error: 0.3895 - val_loss: 0.3849 - val_mean_squared_error: 0.3849\n",
      "Epoch 19/100\n",
      "15/15 [==============================] - 0s 3ms/step - loss: 0.3822 - mean_squared_error: 0.3822 - val_loss: 0.3776 - val_mean_squared_error: 0.3776\n",
      "Epoch 20/100\n",
      "15/15 [==============================] - 0s 4ms/step - loss: 0.3750 - mean_squared_error: 0.3750 - val_loss: 0.3706 - val_mean_squared_error: 0.3706\n",
      "Epoch 21/100\n",
      "15/15 [==============================] - 0s 4ms/step - loss: 0.3680 - mean_squared_error: 0.3680 - val_loss: 0.3636 - val_mean_squared_error: 0.3636\n",
      "Epoch 22/100\n",
      "15/15 [==============================] - 0s 4ms/step - loss: 0.3609 - mean_squared_error: 0.3609 - val_loss: 0.3566 - val_mean_squared_error: 0.3566\n",
      "Epoch 23/100\n",
      "15/15 [==============================] - 0s 4ms/step - loss: 0.3538 - mean_squared_error: 0.3538 - val_loss: 0.3492 - val_mean_squared_error: 0.3492\n",
      "Epoch 24/100\n",
      "15/15 [==============================] - 0s 4ms/step - loss: 0.3463 - mean_squared_error: 0.3463 - val_loss: 0.3417 - val_mean_squared_error: 0.3417\n",
      "Epoch 25/100\n",
      "15/15 [==============================] - 0s 4ms/step - loss: 0.3389 - mean_squared_error: 0.3389 - val_loss: 0.3344 - val_mean_squared_error: 0.3344\n",
      "Epoch 26/100\n",
      "15/15 [==============================] - 0s 4ms/step - loss: 0.3318 - mean_squared_error: 0.3318 - val_loss: 0.3276 - val_mean_squared_error: 0.3276\n",
      "Epoch 27/100\n",
      "15/15 [==============================] - 0s 4ms/step - loss: 0.3251 - mean_squared_error: 0.3251 - val_loss: 0.3211 - val_mean_squared_error: 0.3211\n",
      "Epoch 28/100\n",
      "15/15 [==============================] - 0s 4ms/step - loss: 0.3188 - mean_squared_error: 0.3188 - val_loss: 0.3151 - val_mean_squared_error: 0.3151\n",
      "Epoch 29/100\n",
      "15/15 [==============================] - 0s 4ms/step - loss: 0.3129 - mean_squared_error: 0.3129 - val_loss: 0.3093 - val_mean_squared_error: 0.3093\n",
      "Epoch 30/100\n",
      "15/15 [==============================] - 0s 4ms/step - loss: 0.3077 - mean_squared_error: 0.3077 - val_loss: 0.3042 - val_mean_squared_error: 0.3042\n",
      "Epoch 31/100\n",
      "15/15 [==============================] - 0s 4ms/step - loss: 0.3026 - mean_squared_error: 0.3026 - val_loss: 0.2997 - val_mean_squared_error: 0.2997\n",
      "Epoch 32/100\n",
      "15/15 [==============================] - 0s 4ms/step - loss: 0.2980 - mean_squared_error: 0.2980 - val_loss: 0.2950 - val_mean_squared_error: 0.2950\n",
      "Epoch 33/100\n",
      "15/15 [==============================] - 0s 4ms/step - loss: 0.2936 - mean_squared_error: 0.2936 - val_loss: 0.2907 - val_mean_squared_error: 0.2907\n",
      "Epoch 34/100\n",
      "15/15 [==============================] - 0s 4ms/step - loss: 0.2896 - mean_squared_error: 0.2896 - val_loss: 0.2870 - val_mean_squared_error: 0.2870\n",
      "Epoch 35/100\n",
      "15/15 [==============================] - 0s 4ms/step - loss: 0.2861 - mean_squared_error: 0.2861 - val_loss: 0.2835 - val_mean_squared_error: 0.2835\n",
      "Epoch 36/100\n",
      "15/15 [==============================] - 0s 4ms/step - loss: 0.2824 - mean_squared_error: 0.2824 - val_loss: 0.2802 - val_mean_squared_error: 0.2802\n",
      "Epoch 37/100\n",
      "15/15 [==============================] - 0s 4ms/step - loss: 0.2795 - mean_squared_error: 0.2795 - val_loss: 0.2774 - val_mean_squared_error: 0.2774\n",
      "Epoch 38/100\n",
      "15/15 [==============================] - 0s 4ms/step - loss: 0.2768 - mean_squared_error: 0.2768 - val_loss: 0.2762 - val_mean_squared_error: 0.2762\n",
      "Epoch 39/100\n",
      "15/15 [==============================] - 0s 4ms/step - loss: 0.2742 - mean_squared_error: 0.2742 - val_loss: 0.2724 - val_mean_squared_error: 0.2724\n",
      "Epoch 40/100\n",
      "15/15 [==============================] - 0s 4ms/step - loss: 0.2720 - mean_squared_error: 0.2720 - val_loss: 0.2706 - val_mean_squared_error: 0.2706\n",
      "Epoch 41/100\n",
      "15/15 [==============================] - 0s 4ms/step - loss: 0.2700 - mean_squared_error: 0.2700 - val_loss: 0.2683 - val_mean_squared_error: 0.2683\n",
      "Epoch 42/100\n",
      "15/15 [==============================] - 0s 4ms/step - loss: 0.2677 - mean_squared_error: 0.2677 - val_loss: 0.2660 - val_mean_squared_error: 0.2660\n",
      "Epoch 43/100\n",
      "15/15 [==============================] - 0s 4ms/step - loss: 0.2654 - mean_squared_error: 0.2654 - val_loss: 0.2636 - val_mean_squared_error: 0.2636\n",
      "Epoch 44/100\n",
      "15/15 [==============================] - 0s 4ms/step - loss: 0.2631 - mean_squared_error: 0.2631 - val_loss: 0.2613 - val_mean_squared_error: 0.2613\n",
      "Epoch 45/100\n",
      "15/15 [==============================] - 0s 4ms/step - loss: 0.2610 - mean_squared_error: 0.2610 - val_loss: 0.2596 - val_mean_squared_error: 0.2596\n",
      "Epoch 46/100\n",
      "15/15 [==============================] - 0s 4ms/step - loss: 0.2591 - mean_squared_error: 0.2591 - val_loss: 0.2573 - val_mean_squared_error: 0.2573\n",
      "Epoch 47/100\n",
      "15/15 [==============================] - 0s 4ms/step - loss: 0.2573 - mean_squared_error: 0.2573 - val_loss: 0.2556 - val_mean_squared_error: 0.2556\n",
      "Epoch 48/100\n",
      "15/15 [==============================] - 0s 4ms/step - loss: 0.2557 - mean_squared_error: 0.2557 - val_loss: 0.2539 - val_mean_squared_error: 0.2539\n",
      "Epoch 49/100\n",
      "15/15 [==============================] - 0s 4ms/step - loss: 0.2541 - mean_squared_error: 0.2541 - val_loss: 0.2530 - val_mean_squared_error: 0.2530\n",
      "Epoch 50/100\n",
      "15/15 [==============================] - 0s 4ms/step - loss: 0.2526 - mean_squared_error: 0.2526 - val_loss: 0.2516 - val_mean_squared_error: 0.2516\n",
      "Epoch 51/100\n"
     ]
    },
    {
     "name": "stdout",
     "output_type": "stream",
     "text": [
      "15/15 [==============================] - 0s 4ms/step - loss: 0.2511 - mean_squared_error: 0.2511 - val_loss: 0.2499 - val_mean_squared_error: 0.2499\n",
      "Epoch 52/100\n",
      "15/15 [==============================] - 0s 4ms/step - loss: 0.2500 - mean_squared_error: 0.2500 - val_loss: 0.2485 - val_mean_squared_error: 0.2485\n",
      "Epoch 53/100\n",
      "15/15 [==============================] - 0s 4ms/step - loss: 0.2485 - mean_squared_error: 0.2485 - val_loss: 0.2475 - val_mean_squared_error: 0.2475\n",
      "Epoch 54/100\n",
      "15/15 [==============================] - 0s 4ms/step - loss: 0.2476 - mean_squared_error: 0.2476 - val_loss: 0.2461 - val_mean_squared_error: 0.2461\n",
      "Epoch 55/100\n",
      "15/15 [==============================] - 0s 4ms/step - loss: 0.2463 - mean_squared_error: 0.2463 - val_loss: 0.2451 - val_mean_squared_error: 0.2451\n",
      "Epoch 56/100\n",
      "15/15 [==============================] - 0s 4ms/step - loss: 0.2452 - mean_squared_error: 0.2452 - val_loss: 0.2440 - val_mean_squared_error: 0.2440\n",
      "Epoch 57/100\n",
      "15/15 [==============================] - 0s 4ms/step - loss: 0.2443 - mean_squared_error: 0.2443 - val_loss: 0.2432 - val_mean_squared_error: 0.2432\n",
      "Epoch 58/100\n",
      "15/15 [==============================] - 0s 4ms/step - loss: 0.2430 - mean_squared_error: 0.2430 - val_loss: 0.2427 - val_mean_squared_error: 0.2427\n",
      "Epoch 59/100\n",
      "15/15 [==============================] - 0s 4ms/step - loss: 0.2425 - mean_squared_error: 0.2425 - val_loss: 0.2418 - val_mean_squared_error: 0.2418\n",
      "Epoch 60/100\n",
      "15/15 [==============================] - 0s 4ms/step - loss: 0.2415 - mean_squared_error: 0.2415 - val_loss: 0.2412 - val_mean_squared_error: 0.2412\n",
      "Epoch 61/100\n",
      "15/15 [==============================] - 0s 5ms/step - loss: 0.2407 - mean_squared_error: 0.2407 - val_loss: 0.2396 - val_mean_squared_error: 0.2396\n",
      "Epoch 62/100\n",
      "15/15 [==============================] - 0s 4ms/step - loss: 0.2400 - mean_squared_error: 0.2400 - val_loss: 0.2391 - val_mean_squared_error: 0.2391\n",
      "Epoch 63/100\n",
      "15/15 [==============================] - 0s 4ms/step - loss: 0.2392 - mean_squared_error: 0.2392 - val_loss: 0.2382 - val_mean_squared_error: 0.2382\n",
      "Epoch 64/100\n",
      "15/15 [==============================] - 0s 4ms/step - loss: 0.2381 - mean_squared_error: 0.2381 - val_loss: 0.2375 - val_mean_squared_error: 0.2375\n",
      "Epoch 65/100\n",
      "15/15 [==============================] - 0s 4ms/step - loss: 0.2373 - mean_squared_error: 0.2373 - val_loss: 0.2364 - val_mean_squared_error: 0.2364\n",
      "Epoch 66/100\n",
      "15/15 [==============================] - 0s 4ms/step - loss: 0.2369 - mean_squared_error: 0.2369 - val_loss: 0.2358 - val_mean_squared_error: 0.2358\n",
      "Epoch 67/100\n",
      "15/15 [==============================] - 0s 4ms/step - loss: 0.2361 - mean_squared_error: 0.2361 - val_loss: 0.2350 - val_mean_squared_error: 0.2350\n",
      "Epoch 68/100\n",
      "15/15 [==============================] - 0s 4ms/step - loss: 0.2355 - mean_squared_error: 0.2355 - val_loss: 0.2348 - val_mean_squared_error: 0.2348\n",
      "Epoch 69/100\n",
      "15/15 [==============================] - 0s 4ms/step - loss: 0.2350 - mean_squared_error: 0.2350 - val_loss: 0.2343 - val_mean_squared_error: 0.2343\n",
      "Epoch 70/100\n",
      "15/15 [==============================] - 0s 4ms/step - loss: 0.2345 - mean_squared_error: 0.2345 - val_loss: 0.2339 - val_mean_squared_error: 0.2339\n",
      "Epoch 71/100\n",
      "15/15 [==============================] - 0s 4ms/step - loss: 0.2341 - mean_squared_error: 0.2341 - val_loss: 0.2328 - val_mean_squared_error: 0.2328\n",
      "Epoch 72/100\n",
      "15/15 [==============================] - 0s 4ms/step - loss: 0.2330 - mean_squared_error: 0.2330 - val_loss: 0.2324 - val_mean_squared_error: 0.2324\n",
      "Epoch 73/100\n",
      "15/15 [==============================] - 0s 4ms/step - loss: 0.2326 - mean_squared_error: 0.2326 - val_loss: 0.2322 - val_mean_squared_error: 0.2322\n",
      "Epoch 74/100\n",
      "15/15 [==============================] - 0s 4ms/step - loss: 0.2322 - mean_squared_error: 0.2322 - val_loss: 0.2312 - val_mean_squared_error: 0.2312\n",
      "Epoch 75/100\n",
      "15/15 [==============================] - 0s 4ms/step - loss: 0.2317 - mean_squared_error: 0.2317 - val_loss: 0.2305 - val_mean_squared_error: 0.2305\n",
      "Epoch 76/100\n",
      "15/15 [==============================] - 0s 4ms/step - loss: 0.2308 - mean_squared_error: 0.2308 - val_loss: 0.2299 - val_mean_squared_error: 0.2299\n",
      "Epoch 77/100\n",
      "15/15 [==============================] - 0s 4ms/step - loss: 0.2305 - mean_squared_error: 0.2305 - val_loss: 0.2299 - val_mean_squared_error: 0.2299\n",
      "Epoch 78/100\n",
      "15/15 [==============================] - 0s 4ms/step - loss: 0.2300 - mean_squared_error: 0.2300 - val_loss: 0.2290 - val_mean_squared_error: 0.2290\n",
      "Epoch 79/100\n",
      "15/15 [==============================] - 0s 4ms/step - loss: 0.2295 - mean_squared_error: 0.2295 - val_loss: 0.2286 - val_mean_squared_error: 0.2286\n",
      "Epoch 80/100\n",
      "15/15 [==============================] - 0s 4ms/step - loss: 0.2291 - mean_squared_error: 0.2291 - val_loss: 0.2281 - val_mean_squared_error: 0.2281\n",
      "Epoch 81/100\n",
      "15/15 [==============================] - 0s 4ms/step - loss: 0.2283 - mean_squared_error: 0.2283 - val_loss: 0.2280 - val_mean_squared_error: 0.2280\n",
      "Epoch 82/100\n",
      "15/15 [==============================] - 0s 4ms/step - loss: 0.2280 - mean_squared_error: 0.2280 - val_loss: 0.2271 - val_mean_squared_error: 0.2271\n",
      "Epoch 83/100\n",
      "15/15 [==============================] - 0s 4ms/step - loss: 0.2275 - mean_squared_error: 0.2275 - val_loss: 0.2270 - val_mean_squared_error: 0.2270\n",
      "Epoch 84/100\n",
      "15/15 [==============================] - 0s 4ms/step - loss: 0.2272 - mean_squared_error: 0.2272 - val_loss: 0.2263 - val_mean_squared_error: 0.2263\n",
      "Epoch 85/100\n",
      "15/15 [==============================] - 0s 4ms/step - loss: 0.2268 - mean_squared_error: 0.2268 - val_loss: 0.2257 - val_mean_squared_error: 0.2257\n",
      "Epoch 86/100\n",
      "15/15 [==============================] - 0s 4ms/step - loss: 0.2265 - mean_squared_error: 0.2265 - val_loss: 0.2256 - val_mean_squared_error: 0.2256\n",
      "Epoch 87/100\n",
      "15/15 [==============================] - 0s 4ms/step - loss: 0.2260 - mean_squared_error: 0.2260 - val_loss: 0.2257 - val_mean_squared_error: 0.2257\n",
      "Epoch 88/100\n",
      "15/15 [==============================] - 0s 4ms/step - loss: 0.2257 - mean_squared_error: 0.2257 - val_loss: 0.2248 - val_mean_squared_error: 0.2248\n",
      "Epoch 89/100\n",
      "15/15 [==============================] - 0s 4ms/step - loss: 0.2250 - mean_squared_error: 0.2250 - val_loss: 0.2243 - val_mean_squared_error: 0.2243\n",
      "Epoch 90/100\n",
      "15/15 [==============================] - 0s 4ms/step - loss: 0.2246 - mean_squared_error: 0.2246 - val_loss: 0.2241 - val_mean_squared_error: 0.2241\n",
      "Epoch 91/100\n",
      "15/15 [==============================] - 0s 4ms/step - loss: 0.2244 - mean_squared_error: 0.2244 - val_loss: 0.2236 - val_mean_squared_error: 0.2236\n",
      "Epoch 92/100\n",
      "15/15 [==============================] - 0s 4ms/step - loss: 0.2238 - mean_squared_error: 0.2238 - val_loss: 0.2231 - val_mean_squared_error: 0.2231\n",
      "Epoch 93/100\n",
      "15/15 [==============================] - 0s 4ms/step - loss: 0.2237 - mean_squared_error: 0.2237 - val_loss: 0.2236 - val_mean_squared_error: 0.2236\n",
      "Epoch 94/100\n",
      "15/15 [==============================] - 0s 4ms/step - loss: 0.2235 - mean_squared_error: 0.2235 - val_loss: 0.2226 - val_mean_squared_error: 0.2226\n",
      "Epoch 95/100\n",
      "15/15 [==============================] - 0s 4ms/step - loss: 0.2229 - mean_squared_error: 0.2229 - val_loss: 0.2221 - val_mean_squared_error: 0.2221\n",
      "Epoch 96/100\n",
      "15/15 [==============================] - 0s 4ms/step - loss: 0.2226 - mean_squared_error: 0.2226 - val_loss: 0.2220 - val_mean_squared_error: 0.2220\n",
      "Epoch 97/100\n",
      "15/15 [==============================] - 0s 4ms/step - loss: 0.2223 - mean_squared_error: 0.2223 - val_loss: 0.2215 - val_mean_squared_error: 0.2215\n",
      "Epoch 98/100\n",
      "15/15 [==============================] - 0s 4ms/step - loss: 0.2219 - mean_squared_error: 0.2219 - val_loss: 0.2211 - val_mean_squared_error: 0.2211\n",
      "Epoch 99/100\n",
      "15/15 [==============================] - 0s 4ms/step - loss: 0.2215 - mean_squared_error: 0.2215 - val_loss: 0.2209 - val_mean_squared_error: 0.2209\n",
      "Epoch 100/100\n",
      "15/15 [==============================] - 0s 4ms/step - loss: 0.2210 - mean_squared_error: 0.2210 - val_loss: 0.2212 - val_mean_squared_error: 0.2212\n"
     ]
    },
    {
     "data": {
      "text/plain": [
       "<keras.callbacks.History at 0x28f5151fa30>"
      ]
     },
     "execution_count": 20,
     "metadata": {},
     "output_type": "execute_result"
    }
   ],
   "source": [
    "model.fit(good_x, good_x, \n",
    "          validation_data = (good_x, good_x),\n",
    "          epochs=100, batch_size=100, callbacks=callback)\n",
    "\n"
   ]
  },
  {
   "cell_type": "markdown",
   "metadata": {},
   "source": [
    "### Check the average MSE on the \"good\" loans"
   ]
  },
  {
   "cell_type": "code",
   "execution_count": 21,
   "metadata": {},
   "outputs": [
    {
     "name": "stdout",
     "output_type": "stream",
     "text": [
      "47/47 [==============================] - 0s 931us/step - loss: 0.2212 - mean_squared_error: 0.2212\n"
     ]
    },
    {
     "data": {
      "text/plain": [
       "[0.22123031318187714, 0.22123031318187714]"
      ]
     },
     "execution_count": 21,
     "metadata": {},
     "output_type": "execute_result"
    }
   ],
   "source": [
    "model.evaluate(good_x, good_x)\n"
   ]
  },
  {
   "cell_type": "code",
   "execution_count": 22,
   "metadata": {},
   "outputs": [
    {
     "name": "stdout",
     "output_type": "stream",
     "text": [
      "47/47 [==============================] - 0s 1ms/step - loss: 0.2212 - mean_squared_error: 0.2212\n"
     ]
    },
    {
     "data": {
      "text/plain": [
       "22.123031318187714"
      ]
     },
     "execution_count": 22,
     "metadata": {},
     "output_type": "execute_result"
    }
   ],
   "source": [
    "model.evaluate(good_x, good_x)[0]*100"
   ]
  },
  {
   "cell_type": "markdown",
   "metadata": {},
   "source": [
    "### Check the average MSE on the \"unknown\" data"
   ]
  },
  {
   "cell_type": "code",
   "execution_count": 23,
   "metadata": {},
   "outputs": [
    {
     "name": "stdout",
     "output_type": "stream",
     "text": [
      "32/32 [==============================] - 0s 962us/step - loss: 0.9636 - mean_squared_error: 0.9636\n"
     ]
    },
    {
     "data": {
      "text/plain": [
       "[0.9636467099189758, 0.9636467099189758]"
      ]
     },
     "execution_count": 23,
     "metadata": {},
     "output_type": "execute_result"
    }
   ],
   "source": [
    "model.evaluate(unknown_x, unknown_x)"
   ]
  },
  {
   "cell_type": "code",
   "execution_count": 24,
   "metadata": {},
   "outputs": [
    {
     "name": "stdout",
     "output_type": "stream",
     "text": [
      "32/32 [==============================] - 0s 668us/step - loss: 0.9636 - mean_squared_error: 0.9636\n"
     ]
    },
    {
     "data": {
      "text/plain": [
       "96.36467099189758"
      ]
     },
     "execution_count": 24,
     "metadata": {},
     "output_type": "execute_result"
    }
   ],
   "source": [
    "model.evaluate(unknown_x, unknown_x)[0]*100"
   ]
  },
  {
   "cell_type": "markdown",
   "metadata": {},
   "source": [
    "### Do you think the \"unknown\" loans look like good loans or not (justify your answer using the interpretation of the average MSE values)"
   ]
  },
  {
   "cell_type": "markdown",
   "metadata": {},
   "source": []
  },
  {
   "cell_type": "markdown",
   "metadata": {},
   "source": [
    "The unknown loans are 3 times worse than the good loans.  "
   ]
  },
  {
   "cell_type": "code",
   "execution_count": 25,
   "metadata": {},
   "outputs": [
    {
     "name": "stdout",
     "output_type": "stream",
     "text": [
      "1/1 [==============================] - 0s 64ms/step\n",
      "17.455050077189586\n",
      "1/1 [==============================] - 0s 11ms/step\n",
      "10.650773754125057\n",
      "1/1 [==============================] - 0s 15ms/step\n",
      "9.952228323513044\n",
      "1/1 [==============================] - 0s 17ms/step\n",
      "17.84088738788164\n",
      "1/1 [==============================] - 0s 28ms/step\n",
      "12.590331565501794\n",
      "1/1 [==============================] - 0s 23ms/step\n",
      "11.979907710271712\n",
      "1/1 [==============================] - 0s 18ms/step\n",
      "9.829080001328835\n",
      "1/1 [==============================] - 0s 30ms/step\n",
      "28.148115168493636\n",
      "1/1 [==============================] - 0s 25ms/step\n",
      "15.981035875707677\n",
      "1/1 [==============================] - 0s 16ms/step\n",
      "32.68079871232332\n",
      "1/1 [==============================] - 0s 16ms/step\n",
      "13.978573365138857\n",
      "1/1 [==============================] - 0s 30ms/step\n",
      "12.829460901553125\n",
      "1/1 [==============================] - 0s 24ms/step\n",
      "5.3589697420422375\n",
      "1/1 [==============================] - 0s 26ms/step\n",
      "9.817235501719045\n",
      "1/1 [==============================] - 0s 17ms/step\n",
      "6.5489086952886115\n",
      "1/1 [==============================] - 0s 18ms/step\n",
      "10.010341167340375\n",
      "1/1 [==============================] - 0s 27ms/step\n",
      "13.158937294624979\n",
      "1/1 [==============================] - 0s 16ms/step\n",
      "33.797345494992605\n",
      "1/1 [==============================] - 0s 29ms/step\n",
      "14.965246757215672\n",
      "1/1 [==============================] - 0s 17ms/step\n",
      "16.48252591004031\n"
     ]
    }
   ],
   "source": [
    "# Looping through the first 20 good loans\n",
    "from sklearn.metrics import mean_squared_error\n",
    "\n",
    "for i in range(0,20):\n",
    "    prediction = model.predict(good_x[i:i+1])\n",
    "    print((mean_squared_error(good_x[i:i+1], prediction))*100)\n",
    "    \n",
    "# The mse * 100 of the first 20 good loan records fall between 9.82 and 43.62"
   ]
  },
  {
   "cell_type": "code",
   "execution_count": 26,
   "metadata": {},
   "outputs": [
    {
     "name": "stdout",
     "output_type": "stream",
     "text": [
      "1/1 [==============================] - 0s 17ms/step\n",
      "58.67682553182565\n",
      "1/1 [==============================] - 0s 16ms/step\n",
      "9.797934008367273\n",
      "1/1 [==============================] - 0s 8ms/step\n",
      "27.573497593325996\n",
      "1/1 [==============================] - 0s 24ms/step\n",
      "31.787245179585238\n",
      "1/1 [==============================] - 0s 16ms/step\n",
      "88.24448396377178\n",
      "1/1 [==============================] - 0s 33ms/step\n",
      "42.67978783164765\n",
      "1/1 [==============================] - 0s 25ms/step\n",
      "281.35755138776346\n",
      "1/1 [==============================] - 0s 17ms/step\n",
      "19.526858583604675\n",
      "1/1 [==============================] - 0s 20ms/step\n",
      "218.03554483582707\n",
      "1/1 [==============================] - 0s 16ms/step\n",
      "272.22413295337316\n",
      "1/1 [==============================] - 0s 16ms/step\n",
      "17.772180074850745\n",
      "1/1 [==============================] - 0s 16ms/step\n",
      "66.171864629121\n",
      "1/1 [==============================] - 0s 16ms/step\n",
      "96.02279048666354\n",
      "1/1 [==============================] - 0s 22ms/step\n",
      "25.773518136734353\n",
      "1/1 [==============================] - 0s 21ms/step\n",
      "98.20152788876045\n",
      "1/1 [==============================] - 0s 17ms/step\n",
      "19.2215885014464\n",
      "1/1 [==============================] - 0s 27ms/step\n",
      "100.00389215613245\n",
      "1/1 [==============================] - 0s 23ms/step\n",
      "30.092340359791425\n",
      "1/1 [==============================] - 0s 16ms/step\n",
      "17.74084824372996\n",
      "1/1 [==============================] - 0s 16ms/step\n",
      "29.096293237538422\n"
     ]
    }
   ],
   "source": [
    "# Looping through the first 20 unknown loans\n",
    "for i in range(0,20):\n",
    "    prediction = model.predict(unknown_x[i:i+1])\n",
    "    print((mean_squared_error(unknown_x[i:i+1], prediction))*100)\n",
    "    \n",
    "# The mse * 100 of the first 20 unknown loan records fall between 14.98 and 235.85."
   ]
  },
  {
   "cell_type": "markdown",
   "metadata": {},
   "source": [
    "The mse is largely bigger in the unknown loan file.  This increases the likelihood that these loans are not \"good\" and probably have a higher chance for default.  "
   ]
  }
 ],
 "metadata": {
  "kernelspec": {
   "display_name": "Python 3 (ipykernel)",
   "language": "python",
   "name": "python3"
  },
  "language_info": {
   "codemirror_mode": {
    "name": "ipython",
    "version": 3
   },
   "file_extension": ".py",
   "mimetype": "text/x-python",
   "name": "python",
   "nbconvert_exporter": "python",
   "pygments_lexer": "ipython3",
   "version": "3.10.9"
  },
  "nav_menu": {
   "height": "279px",
   "width": "309px"
  },
  "toc": {
   "base_numbering": 1,
   "nav_menu": {},
   "number_sections": false,
   "sideBar": true,
   "skip_h1_title": false,
   "title_cell": "Table of Contents",
   "title_sidebar": "Contents",
   "toc_cell": false,
   "toc_position": {},
   "toc_section_display": "block",
   "toc_window_display": true
  }
 },
 "nbformat": 4,
 "nbformat_minor": 1
}
