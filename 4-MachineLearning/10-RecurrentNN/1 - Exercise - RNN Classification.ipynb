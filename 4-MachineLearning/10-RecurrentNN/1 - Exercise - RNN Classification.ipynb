{
 "cells": [
  {
   "cell_type": "markdown",
   "metadata": {},
   "source": [
    "# Exercise - RNN Classification\n",
    "\n",
    "In this notebook, we will perform a classification task using RNNs (i.e., a sequence to value prediction). We have hourly power consumption of households for 12 hours. Based on this, we will determine whether the power grid is strained (1) or not (0). \n",
    "\n",
    "Therefore, use the columns from `Hour 0` to `Hour 11` to predict the `target` column in the `power.csv` data set.\n",
    "\n",
    "Hint1: Use Tutorial 1 for help.\n",
    "\n",
    "Hint2: Don't forget to adjust the number of neurons in the input layers correctly. Otherwise, you will run into errors."
   ]
  },
  {
   "cell_type": "code",
   "execution_count": 1,
   "metadata": {},
   "outputs": [],
   "source": [
    "import tensorflow as tf\n",
    "from tensorflow import keras\n",
    "from sklearn.metrics import mean_squared_error\n",
    "\n",
    "\n",
    "# Common imports\n",
    "import numpy as np\n",
    "import os\n",
    "import pandas as pd\n",
    "\n",
    "# to make this notebook's output stable across runs\n",
    "np.random.seed(42)\n",
    "\n",
    "# To plot pretty figures\n",
    "%matplotlib inline\n",
    "import matplotlib as mpl\n",
    "import matplotlib.pyplot as plt\n",
    "mpl.rc('axes', labelsize=14)\n",
    "mpl.rc('xtick', labelsize=12)\n",
    "mpl.rc('ytick', labelsize=12)\n",
    "\n"
   ]
  },
  {
   "cell_type": "markdown",
   "metadata": {},
   "source": [
    "# Read the Dataset"
   ]
  },
  {
   "cell_type": "code",
   "execution_count": 2,
   "metadata": {},
   "outputs": [
    {
     "data": {
      "text/html": [
       "<div>\n",
       "<style scoped>\n",
       "    .dataframe tbody tr th:only-of-type {\n",
       "        vertical-align: middle;\n",
       "    }\n",
       "\n",
       "    .dataframe tbody tr th {\n",
       "        vertical-align: top;\n",
       "    }\n",
       "\n",
       "    .dataframe thead th {\n",
       "        text-align: right;\n",
       "    }\n",
       "</style>\n",
       "<table border=\"1\" class=\"dataframe\">\n",
       "  <thead>\n",
       "    <tr style=\"text-align: right;\">\n",
       "      <th></th>\n",
       "      <th>Hour 0</th>\n",
       "      <th>Hour 1</th>\n",
       "      <th>Hour 2</th>\n",
       "      <th>Hour 3</th>\n",
       "      <th>Hour 4</th>\n",
       "      <th>Hour 5</th>\n",
       "      <th>Hour 6</th>\n",
       "      <th>Hour 7</th>\n",
       "      <th>Hour 8</th>\n",
       "      <th>Hour 9</th>\n",
       "      <th>Hour 10</th>\n",
       "      <th>Hour 11</th>\n",
       "      <th>target</th>\n",
       "    </tr>\n",
       "  </thead>\n",
       "  <tbody>\n",
       "    <tr>\n",
       "      <th>0</th>\n",
       "      <td>2.550633</td>\n",
       "      <td>2.523400</td>\n",
       "      <td>2.582333</td>\n",
       "      <td>2.541667</td>\n",
       "      <td>2.475733</td>\n",
       "      <td>2.476233</td>\n",
       "      <td>2.455800</td>\n",
       "      <td>2.447200</td>\n",
       "      <td>2.441733</td>\n",
       "      <td>3.146133</td>\n",
       "      <td>2.661733</td>\n",
       "      <td>2.576000</td>\n",
       "      <td>1</td>\n",
       "    </tr>\n",
       "    <tr>\n",
       "      <th>1</th>\n",
       "      <td>1.596933</td>\n",
       "      <td>1.619567</td>\n",
       "      <td>2.473733</td>\n",
       "      <td>2.731133</td>\n",
       "      <td>2.431133</td>\n",
       "      <td>2.479667</td>\n",
       "      <td>1.690200</td>\n",
       "      <td>1.332133</td>\n",
       "      <td>1.375167</td>\n",
       "      <td>1.050900</td>\n",
       "      <td>0.585900</td>\n",
       "      <td>2.651900</td>\n",
       "      <td>1</td>\n",
       "    </tr>\n",
       "    <tr>\n",
       "      <th>2</th>\n",
       "      <td>0.534933</td>\n",
       "      <td>0.540467</td>\n",
       "      <td>0.575367</td>\n",
       "      <td>0.526500</td>\n",
       "      <td>0.521900</td>\n",
       "      <td>0.565333</td>\n",
       "      <td>1.426467</td>\n",
       "      <td>0.602067</td>\n",
       "      <td>0.547433</td>\n",
       "      <td>0.525067</td>\n",
       "      <td>1.270300</td>\n",
       "      <td>0.393767</td>\n",
       "      <td>0</td>\n",
       "    </tr>\n",
       "    <tr>\n",
       "      <th>3</th>\n",
       "      <td>1.085867</td>\n",
       "      <td>0.651233</td>\n",
       "      <td>0.634600</td>\n",
       "      <td>0.653000</td>\n",
       "      <td>0.646067</td>\n",
       "      <td>0.628400</td>\n",
       "      <td>0.611067</td>\n",
       "      <td>0.612533</td>\n",
       "      <td>0.660100</td>\n",
       "      <td>0.606067</td>\n",
       "      <td>1.471867</td>\n",
       "      <td>0.834533</td>\n",
       "      <td>0</td>\n",
       "    </tr>\n",
       "    <tr>\n",
       "      <th>4</th>\n",
       "      <td>0.456000</td>\n",
       "      <td>0.286300</td>\n",
       "      <td>0.310833</td>\n",
       "      <td>0.250933</td>\n",
       "      <td>0.277667</td>\n",
       "      <td>0.308633</td>\n",
       "      <td>0.610400</td>\n",
       "      <td>1.563533</td>\n",
       "      <td>1.421867</td>\n",
       "      <td>3.324400</td>\n",
       "      <td>3.207567</td>\n",
       "      <td>1.425433</td>\n",
       "      <td>1</td>\n",
       "    </tr>\n",
       "  </tbody>\n",
       "</table>\n",
       "</div>"
      ],
      "text/plain": [
       "     Hour 0    Hour 1    Hour 2    Hour 3    Hour 4    Hour 5    Hour 6  \\\n",
       "0  2.550633  2.523400  2.582333  2.541667  2.475733  2.476233  2.455800   \n",
       "1  1.596933  1.619567  2.473733  2.731133  2.431133  2.479667  1.690200   \n",
       "2  0.534933  0.540467  0.575367  0.526500  0.521900  0.565333  1.426467   \n",
       "3  1.085867  0.651233  0.634600  0.653000  0.646067  0.628400  0.611067   \n",
       "4  0.456000  0.286300  0.310833  0.250933  0.277667  0.308633  0.610400   \n",
       "\n",
       "     Hour 7    Hour 8    Hour 9   Hour 10   Hour 11  target  \n",
       "0  2.447200  2.441733  3.146133  2.661733  2.576000       1  \n",
       "1  1.332133  1.375167  1.050900  0.585900  2.651900       1  \n",
       "2  0.602067  0.547433  0.525067  1.270300  0.393767       0  \n",
       "3  0.612533  0.660100  0.606067  1.471867  0.834533       0  \n",
       "4  1.563533  1.421867  3.324400  3.207567  1.425433       1  "
      ]
     },
     "execution_count": 2,
     "metadata": {},
     "output_type": "execute_result"
    }
   ],
   "source": [
    "power = pd.read_csv('power.csv')\n",
    "\n",
    "power.head()"
   ]
  },
  {
   "cell_type": "code",
   "execution_count": 3,
   "metadata": {},
   "outputs": [
    {
     "data": {
      "text/plain": [
       "(1417, 13)"
      ]
     },
     "execution_count": 3,
     "metadata": {},
     "output_type": "execute_result"
    }
   ],
   "source": [
    "power.shape"
   ]
  },
  {
   "cell_type": "markdown",
   "metadata": {},
   "source": [
    "# Split the Data\n",
    "\n"
   ]
  },
  {
   "cell_type": "code",
   "execution_count": 4,
   "metadata": {},
   "outputs": [],
   "source": [
    "# First 1000 days are for train\n",
    "train = power.iloc[:1000]\n",
    "\n",
    "# Remaining 417 days are for test\n",
    "test = power.iloc[-417:]"
   ]
  },
  {
   "cell_type": "code",
   "execution_count": 5,
   "metadata": {},
   "outputs": [
    {
     "data": {
      "text/plain": [
       "(1000, 13)"
      ]
     },
     "execution_count": 5,
     "metadata": {},
     "output_type": "execute_result"
    }
   ],
   "source": [
    "train.shape"
   ]
  },
  {
   "cell_type": "code",
   "execution_count": 6,
   "metadata": {},
   "outputs": [
    {
     "data": {
      "text/plain": [
       "(417, 13)"
      ]
     },
     "execution_count": 6,
     "metadata": {},
     "output_type": "execute_result"
    }
   ],
   "source": [
    "test.shape"
   ]
  },
  {
   "cell_type": "markdown",
   "metadata": {},
   "source": [
    "# Create Input and Target values\n",
    "\n",
    "The first 12 columns (hourly data) will be input to predict the last column (i.e., target)"
   ]
  },
  {
   "cell_type": "code",
   "execution_count": 7,
   "metadata": {},
   "outputs": [],
   "source": [
    "# The first 12 columns (from 0 to 11) are inputs\n",
    "\n",
    "train_inputs = train.iloc[:,:12]"
   ]
  },
  {
   "cell_type": "markdown",
   "metadata": {},
   "source": [
    "## Add one more dimension to make it ready for RNNs"
   ]
  },
  {
   "cell_type": "code",
   "execution_count": 8,
   "metadata": {},
   "outputs": [
    {
     "data": {
      "text/plain": [
       "(1000, 12, 1)"
      ]
     },
     "execution_count": 8,
     "metadata": {},
     "output_type": "execute_result"
    }
   ],
   "source": [
    "#Create an additional dimension for train\n",
    "\n",
    "train_x = np.array(train_inputs).reshape(1000,12,1)\n",
    "\n",
    "train_x.shape "
   ]
  },
  {
   "cell_type": "markdown",
   "metadata": {},
   "source": [
    "## Set the target"
   ]
  },
  {
   "cell_type": "code",
   "execution_count": 9,
   "metadata": {},
   "outputs": [],
   "source": [
    "# The last column is TARGET\n",
    "\n",
    "train_target = train.iloc[:,-1]"
   ]
  },
  {
   "cell_type": "markdown",
   "metadata": {},
   "source": [
    "## Repeat for TEST"
   ]
  },
  {
   "cell_type": "code",
   "execution_count": 10,
   "metadata": {},
   "outputs": [
    {
     "data": {
      "text/plain": [
       "(417, 13)"
      ]
     },
     "execution_count": 10,
     "metadata": {},
     "output_type": "execute_result"
    }
   ],
   "source": [
    "test.shape"
   ]
  },
  {
   "cell_type": "code",
   "execution_count": 11,
   "metadata": {},
   "outputs": [],
   "source": [
    "# The first 12 columns are inputs\n",
    "\n",
    "test_inputs = test.iloc[:,:12]"
   ]
  },
  {
   "cell_type": "code",
   "execution_count": 12,
   "metadata": {},
   "outputs": [
    {
     "data": {
      "text/plain": [
       "(417, 12, 1)"
      ]
     },
     "execution_count": 12,
     "metadata": {},
     "output_type": "execute_result"
    }
   ],
   "source": [
    "#Create an additional dimension for test\n",
    "\n",
    "test_x = np.array(test_inputs).reshape(417,12,1)\n",
    "\n",
    "test_x.shape "
   ]
  },
  {
   "cell_type": "code",
   "execution_count": 13,
   "metadata": {},
   "outputs": [],
   "source": [
    "# The last column is TARGET\n",
    "\n",
    "test_target = test.iloc[:,-1]"
   ]
  },
  {
   "cell_type": "code",
   "execution_count": 14,
   "metadata": {},
   "outputs": [
    {
     "data": {
      "text/html": [
       "<style>#sk-container-id-1 {color: black;}#sk-container-id-1 pre{padding: 0;}#sk-container-id-1 div.sk-toggleable {background-color: white;}#sk-container-id-1 label.sk-toggleable__label {cursor: pointer;display: block;width: 100%;margin-bottom: 0;padding: 0.3em;box-sizing: border-box;text-align: center;}#sk-container-id-1 label.sk-toggleable__label-arrow:before {content: \"▸\";float: left;margin-right: 0.25em;color: #696969;}#sk-container-id-1 label.sk-toggleable__label-arrow:hover:before {color: black;}#sk-container-id-1 div.sk-estimator:hover label.sk-toggleable__label-arrow:before {color: black;}#sk-container-id-1 div.sk-toggleable__content {max-height: 0;max-width: 0;overflow: hidden;text-align: left;background-color: #f0f8ff;}#sk-container-id-1 div.sk-toggleable__content pre {margin: 0.2em;color: black;border-radius: 0.25em;background-color: #f0f8ff;}#sk-container-id-1 input.sk-toggleable__control:checked~div.sk-toggleable__content {max-height: 200px;max-width: 100%;overflow: auto;}#sk-container-id-1 input.sk-toggleable__control:checked~label.sk-toggleable__label-arrow:before {content: \"▾\";}#sk-container-id-1 div.sk-estimator input.sk-toggleable__control:checked~label.sk-toggleable__label {background-color: #d4ebff;}#sk-container-id-1 div.sk-label input.sk-toggleable__control:checked~label.sk-toggleable__label {background-color: #d4ebff;}#sk-container-id-1 input.sk-hidden--visually {border: 0;clip: rect(1px 1px 1px 1px);clip: rect(1px, 1px, 1px, 1px);height: 1px;margin: -1px;overflow: hidden;padding: 0;position: absolute;width: 1px;}#sk-container-id-1 div.sk-estimator {font-family: monospace;background-color: #f0f8ff;border: 1px dotted black;border-radius: 0.25em;box-sizing: border-box;margin-bottom: 0.5em;}#sk-container-id-1 div.sk-estimator:hover {background-color: #d4ebff;}#sk-container-id-1 div.sk-parallel-item::after {content: \"\";width: 100%;border-bottom: 1px solid gray;flex-grow: 1;}#sk-container-id-1 div.sk-label:hover label.sk-toggleable__label {background-color: #d4ebff;}#sk-container-id-1 div.sk-serial::before {content: \"\";position: absolute;border-left: 1px solid gray;box-sizing: border-box;top: 0;bottom: 0;left: 50%;z-index: 0;}#sk-container-id-1 div.sk-serial {display: flex;flex-direction: column;align-items: center;background-color: white;padding-right: 0.2em;padding-left: 0.2em;position: relative;}#sk-container-id-1 div.sk-item {position: relative;z-index: 1;}#sk-container-id-1 div.sk-parallel {display: flex;align-items: stretch;justify-content: center;background-color: white;position: relative;}#sk-container-id-1 div.sk-item::before, #sk-container-id-1 div.sk-parallel-item::before {content: \"\";position: absolute;border-left: 1px solid gray;box-sizing: border-box;top: 0;bottom: 0;left: 50%;z-index: -1;}#sk-container-id-1 div.sk-parallel-item {display: flex;flex-direction: column;z-index: 1;position: relative;background-color: white;}#sk-container-id-1 div.sk-parallel-item:first-child::after {align-self: flex-end;width: 50%;}#sk-container-id-1 div.sk-parallel-item:last-child::after {align-self: flex-start;width: 50%;}#sk-container-id-1 div.sk-parallel-item:only-child::after {width: 0;}#sk-container-id-1 div.sk-dashed-wrapped {border: 1px dashed gray;margin: 0 0.4em 0.5em 0.4em;box-sizing: border-box;padding-bottom: 0.4em;background-color: white;}#sk-container-id-1 div.sk-label label {font-family: monospace;font-weight: bold;display: inline-block;line-height: 1.2em;}#sk-container-id-1 div.sk-label-container {text-align: center;}#sk-container-id-1 div.sk-container {/* jupyter's `normalize.less` sets `[hidden] { display: none; }` but bootstrap.min.css set `[hidden] { display: none !important; }` so we also need the `!important` here to be able to override the default hidden behavior on the sphinx rendered scikit-learn.org. See: https://github.com/scikit-learn/scikit-learn/issues/21755 */display: inline-block !important;position: relative;}#sk-container-id-1 div.sk-text-repr-fallback {display: none;}</style><div id=\"sk-container-id-1\" class=\"sk-top-container\"><div class=\"sk-text-repr-fallback\"><pre>DummyClassifier(strategy=&#x27;most_frequent&#x27;)</pre><b>In a Jupyter environment, please rerun this cell to show the HTML representation or trust the notebook. <br />On GitHub, the HTML representation is unable to render, please try loading this page with nbviewer.org.</b></div><div class=\"sk-container\" hidden><div class=\"sk-item\"><div class=\"sk-estimator sk-toggleable\"><input class=\"sk-toggleable__control sk-hidden--visually\" id=\"sk-estimator-id-1\" type=\"checkbox\" checked><label for=\"sk-estimator-id-1\" class=\"sk-toggleable__label sk-toggleable__label-arrow\">DummyClassifier</label><div class=\"sk-toggleable__content\"><pre>DummyClassifier(strategy=&#x27;most_frequent&#x27;)</pre></div></div></div></div></div>"
      ],
      "text/plain": [
       "DummyClassifier(strategy='most_frequent')"
      ]
     },
     "execution_count": 14,
     "metadata": {},
     "output_type": "execute_result"
    }
   ],
   "source": [
    "from sklearn.dummy import DummyClassifier\n",
    "\n",
    "dummy_clf = DummyClassifier(strategy=\"most_frequent\")\n",
    "\n",
    "dummy_clf.fit(train_inputs, train_target)"
   ]
  },
  {
   "cell_type": "code",
   "execution_count": 15,
   "metadata": {},
   "outputs": [
    {
     "name": "stdout",
     "output_type": "stream",
     "text": [
      "Baseline Train Accuracy: 0.505\n"
     ]
    }
   ],
   "source": [
    "#Baseline Train Accuracy\n",
    "from sklearn.metrics import accuracy_score\n",
    "dummy_train_pred = dummy_clf.predict(train_inputs)\n",
    "\n",
    "baseline_train_acc = accuracy_score(train_target, dummy_train_pred)\n",
    "\n",
    "print('Baseline Train Accuracy: {}' .format(baseline_train_acc))"
   ]
  },
  {
   "cell_type": "code",
   "execution_count": 16,
   "metadata": {},
   "outputs": [
    {
     "name": "stdout",
     "output_type": "stream",
     "text": [
      "Baseline Test Accuracy: 0.49640287769784175\n"
     ]
    }
   ],
   "source": [
    "#Baseline Test Accuracy\n",
    "dummy_test_pred = dummy_clf.predict(test_inputs)\n",
    "\n",
    "baseline_test_acc = accuracy_score(test_target, dummy_test_pred)\n",
    "\n",
    "print('Baseline Test Accuracy: {}' .format(baseline_test_acc))"
   ]
  },
  {
   "cell_type": "markdown",
   "metadata": {},
   "source": [
    "# Build a normal (cross-sectional) NN\n",
    "\n",
    "This model assumes that the data is NOT a time-series data set. It treats the data as cross-sectional and the columns being independent of each other."
   ]
  },
  {
   "cell_type": "code",
   "execution_count": 17,
   "metadata": {},
   "outputs": [],
   "source": [
    "model = keras.models.Sequential([\n",
    "\n",
    "    keras.layers.Flatten(input_shape=[12, 1]),\n",
    "    keras.layers.Dense(12, activation='relu'),\n",
    "    keras.layers.Dense(1, activation='sigmoid')  \n",
    "    \n",
    "])"
   ]
  },
  {
   "cell_type": "code",
   "execution_count": 18,
   "metadata": {},
   "outputs": [
    {
     "name": "stdout",
     "output_type": "stream",
     "text": [
      "Epoch 1/50\n",
      "32/32 [==============================] - 1s 7ms/step - loss: 0.6846 - accuracy: 0.5580 - val_loss: 0.6636 - val_accuracy: 0.5851\n",
      "Epoch 2/50\n",
      "32/32 [==============================] - 0s 2ms/step - loss: 0.6039 - accuracy: 0.6930 - val_loss: 0.5964 - val_accuracy: 0.6906\n",
      "Epoch 3/50\n",
      "32/32 [==============================] - 0s 3ms/step - loss: 0.5540 - accuracy: 0.7220 - val_loss: 0.6347 - val_accuracy: 0.6211\n",
      "Epoch 4/50\n",
      "32/32 [==============================] - 0s 2ms/step - loss: 0.5186 - accuracy: 0.7540 - val_loss: 0.5430 - val_accuracy: 0.7050\n",
      "Epoch 5/50\n",
      "32/32 [==============================] - 0s 2ms/step - loss: 0.4962 - accuracy: 0.7480 - val_loss: 0.5332 - val_accuracy: 0.7050\n",
      "Epoch 6/50\n",
      "32/32 [==============================] - 0s 2ms/step - loss: 0.4782 - accuracy: 0.7520 - val_loss: 0.5202 - val_accuracy: 0.7026\n",
      "Epoch 7/50\n",
      "32/32 [==============================] - 0s 2ms/step - loss: 0.4725 - accuracy: 0.7570 - val_loss: 0.5278 - val_accuracy: 0.7362\n",
      "Epoch 8/50\n",
      "32/32 [==============================] - 0s 2ms/step - loss: 0.4702 - accuracy: 0.7420 - val_loss: 0.5174 - val_accuracy: 0.7434\n",
      "Epoch 9/50\n",
      "32/32 [==============================] - 0s 2ms/step - loss: 0.4634 - accuracy: 0.7460 - val_loss: 0.5699 - val_accuracy: 0.7074\n",
      "Epoch 10/50\n",
      "32/32 [==============================] - 0s 2ms/step - loss: 0.4593 - accuracy: 0.7610 - val_loss: 0.5063 - val_accuracy: 0.7266\n",
      "Epoch 11/50\n",
      "32/32 [==============================] - 0s 2ms/step - loss: 0.4505 - accuracy: 0.7640 - val_loss: 0.5381 - val_accuracy: 0.7410\n",
      "Epoch 12/50\n",
      "32/32 [==============================] - 0s 2ms/step - loss: 0.4577 - accuracy: 0.7510 - val_loss: 0.5429 - val_accuracy: 0.7002\n",
      "Epoch 13/50\n",
      "32/32 [==============================] - 0s 2ms/step - loss: 0.4521 - accuracy: 0.7570 - val_loss: 0.5219 - val_accuracy: 0.7050\n",
      "Epoch 14/50\n",
      "32/32 [==============================] - 0s 2ms/step - loss: 0.4489 - accuracy: 0.7630 - val_loss: 0.5668 - val_accuracy: 0.7146\n",
      "Epoch 15/50\n",
      "32/32 [==============================] - 0s 2ms/step - loss: 0.4488 - accuracy: 0.7630 - val_loss: 0.5312 - val_accuracy: 0.7098\n",
      "Epoch 16/50\n",
      "32/32 [==============================] - 0s 2ms/step - loss: 0.4527 - accuracy: 0.7570 - val_loss: 0.5047 - val_accuracy: 0.7266\n",
      "Epoch 17/50\n",
      "32/32 [==============================] - 0s 2ms/step - loss: 0.4410 - accuracy: 0.7720 - val_loss: 0.5696 - val_accuracy: 0.7218\n",
      "Epoch 18/50\n",
      "32/32 [==============================] - 0s 3ms/step - loss: 0.4591 - accuracy: 0.7440 - val_loss: 0.5291 - val_accuracy: 0.7410\n",
      "Epoch 19/50\n",
      "32/32 [==============================] - 0s 2ms/step - loss: 0.4448 - accuracy: 0.7590 - val_loss: 0.5212 - val_accuracy: 0.7122\n",
      "Epoch 20/50\n",
      "32/32 [==============================] - 0s 2ms/step - loss: 0.4388 - accuracy: 0.7710 - val_loss: 0.5018 - val_accuracy: 0.7338\n",
      "Epoch 21/50\n",
      "32/32 [==============================] - 0s 2ms/step - loss: 0.4400 - accuracy: 0.7860 - val_loss: 0.5021 - val_accuracy: 0.7434\n",
      "Epoch 22/50\n",
      "32/32 [==============================] - 0s 2ms/step - loss: 0.4399 - accuracy: 0.7740 - val_loss: 0.5038 - val_accuracy: 0.7194\n",
      "Epoch 23/50\n",
      "32/32 [==============================] - 0s 3ms/step - loss: 0.4357 - accuracy: 0.7740 - val_loss: 0.6155 - val_accuracy: 0.7050\n",
      "Epoch 24/50\n",
      "32/32 [==============================] - 0s 2ms/step - loss: 0.4427 - accuracy: 0.7750 - val_loss: 0.5823 - val_accuracy: 0.7146\n",
      "Epoch 25/50\n",
      "32/32 [==============================] - 0s 2ms/step - loss: 0.4401 - accuracy: 0.7690 - val_loss: 0.5192 - val_accuracy: 0.7458\n",
      "Epoch 26/50\n",
      "32/32 [==============================] - 0s 2ms/step - loss: 0.4360 - accuracy: 0.7710 - val_loss: 0.5148 - val_accuracy: 0.7170\n",
      "Epoch 27/50\n",
      "32/32 [==============================] - 0s 2ms/step - loss: 0.4342 - accuracy: 0.7690 - val_loss: 0.6490 - val_accuracy: 0.6619\n",
      "Epoch 28/50\n",
      "32/32 [==============================] - 0s 3ms/step - loss: 0.4389 - accuracy: 0.7740 - val_loss: 0.5205 - val_accuracy: 0.7170\n",
      "Epoch 29/50\n",
      "32/32 [==============================] - 0s 2ms/step - loss: 0.4349 - accuracy: 0.7710 - val_loss: 0.5440 - val_accuracy: 0.7170\n",
      "Epoch 30/50\n",
      "32/32 [==============================] - 0s 2ms/step - loss: 0.4365 - accuracy: 0.7690 - val_loss: 0.4992 - val_accuracy: 0.7410\n",
      "Epoch 31/50\n",
      "32/32 [==============================] - 0s 2ms/step - loss: 0.4310 - accuracy: 0.7760 - val_loss: 0.5204 - val_accuracy: 0.7170\n",
      "Epoch 32/50\n",
      "32/32 [==============================] - 0s 2ms/step - loss: 0.4325 - accuracy: 0.7680 - val_loss: 0.5275 - val_accuracy: 0.7194\n",
      "Epoch 33/50\n",
      "32/32 [==============================] - 0s 3ms/step - loss: 0.4372 - accuracy: 0.7720 - val_loss: 0.4993 - val_accuracy: 0.7314\n",
      "Epoch 34/50\n",
      "32/32 [==============================] - 0s 2ms/step - loss: 0.4310 - accuracy: 0.7800 - val_loss: 0.5307 - val_accuracy: 0.7194\n",
      "Epoch 35/50\n",
      "32/32 [==============================] - 0s 2ms/step - loss: 0.4409 - accuracy: 0.7780 - val_loss: 0.5042 - val_accuracy: 0.7314\n",
      "Epoch 36/50\n",
      "32/32 [==============================] - 0s 2ms/step - loss: 0.4272 - accuracy: 0.7910 - val_loss: 0.4967 - val_accuracy: 0.7410\n",
      "Epoch 37/50\n",
      "32/32 [==============================] - 0s 2ms/step - loss: 0.4318 - accuracy: 0.7880 - val_loss: 0.4983 - val_accuracy: 0.7434\n",
      "Epoch 38/50\n",
      "32/32 [==============================] - 0s 2ms/step - loss: 0.4305 - accuracy: 0.7750 - val_loss: 0.5733 - val_accuracy: 0.7026\n",
      "Epoch 39/50\n",
      "32/32 [==============================] - 0s 2ms/step - loss: 0.4290 - accuracy: 0.7830 - val_loss: 0.5110 - val_accuracy: 0.7266\n",
      "Epoch 40/50\n",
      "32/32 [==============================] - 0s 2ms/step - loss: 0.4247 - accuracy: 0.7910 - val_loss: 0.4963 - val_accuracy: 0.7314\n",
      "Epoch 41/50\n",
      "32/32 [==============================] - 0s 2ms/step - loss: 0.4237 - accuracy: 0.7820 - val_loss: 0.4972 - val_accuracy: 0.7410\n",
      "Epoch 42/50\n",
      "32/32 [==============================] - 0s 2ms/step - loss: 0.4284 - accuracy: 0.7940 - val_loss: 0.4982 - val_accuracy: 0.7362\n",
      "Epoch 43/50\n",
      "32/32 [==============================] - 0s 2ms/step - loss: 0.4266 - accuracy: 0.7900 - val_loss: 0.4989 - val_accuracy: 0.7362\n",
      "Epoch 44/50\n",
      "32/32 [==============================] - 0s 2ms/step - loss: 0.4317 - accuracy: 0.7840 - val_loss: 0.4958 - val_accuracy: 0.7554\n",
      "Epoch 45/50\n",
      "32/32 [==============================] - 0s 2ms/step - loss: 0.4290 - accuracy: 0.7840 - val_loss: 0.5281 - val_accuracy: 0.7266\n",
      "Epoch 46/50\n",
      "32/32 [==============================] - 0s 2ms/step - loss: 0.4295 - accuracy: 0.7810 - val_loss: 0.4960 - val_accuracy: 0.7410\n",
      "Epoch 47/50\n",
      "32/32 [==============================] - 0s 2ms/step - loss: 0.4284 - accuracy: 0.7830 - val_loss: 0.4975 - val_accuracy: 0.7482\n",
      "Epoch 48/50\n",
      "32/32 [==============================] - 0s 2ms/step - loss: 0.4192 - accuracy: 0.7960 - val_loss: 0.5125 - val_accuracy: 0.7194\n",
      "Epoch 49/50\n",
      "32/32 [==============================] - 0s 2ms/step - loss: 0.4239 - accuracy: 0.7850 - val_loss: 0.5188 - val_accuracy: 0.7290\n",
      "Epoch 50/50\n",
      "32/32 [==============================] - 0s 2ms/step - loss: 0.4250 - accuracy: 0.7940 - val_loss: 0.5055 - val_accuracy: 0.7362\n"
     ]
    }
   ],
   "source": [
    "np.random.seed(42)\n",
    "tf.random.set_seed(42)\n",
    "\n",
    "optimizer = tf.keras.optimizers.Nadam(learning_rate=0.01)\n",
    "\n",
    "model.compile(loss=\"binary_crossentropy\", optimizer=optimizer, metrics=['accuracy'])\n",
    "\n",
    "history = model.fit(train_inputs, train_target, epochs=50,\n",
    "                    validation_data=(test_inputs, test_target))"
   ]
  },
  {
   "cell_type": "code",
   "execution_count": 19,
   "metadata": {},
   "outputs": [
    {
     "name": "stdout",
     "output_type": "stream",
     "text": [
      "loss: 0.51\n",
      "accuracy: 73.62%\n"
     ]
    }
   ],
   "source": [
    "# evaluate the model\n",
    "\n",
    "scores = model.evaluate(test_inputs, test_target, verbose=0)\n",
    "scores\n",
    "\n",
    "print(\"%s: %.2f\" % (model.metrics_names[0], scores[0]))\n",
    "print(\"%s: %.2f%%\" % (model.metrics_names[1], scores[1]*100))\n",
    "\n",
    "#72.18% accuracy is much better than the baseline that is just around 50%\n"
   ]
  },
  {
   "cell_type": "markdown",
   "metadata": {},
   "source": [
    "# Build a simple RNN with one layer"
   ]
  },
  {
   "cell_type": "code",
   "execution_count": 20,
   "metadata": {},
   "outputs": [],
   "source": [
    "n_steps = 12\n",
    "n_inputs = 1\n",
    "\n",
    "\n",
    "model = keras.models.Sequential([\n",
    "    \n",
    "    keras.layers.SimpleRNN(12, input_shape=[n_steps, n_inputs]),  \n",
    "    keras.layers.Dense(1, activation='sigmoid')\n",
    "])"
   ]
  },
  {
   "cell_type": "code",
   "execution_count": 21,
   "metadata": {},
   "outputs": [],
   "source": [
    "from tensorflow.keras.callbacks import EarlyStopping\n",
    "earlystop = EarlyStopping(monitor='val_loss', patience=5, verbose=1, mode='auto')\n",
    "callback = [earlystop]"
   ]
  },
  {
   "cell_type": "code",
   "execution_count": 22,
   "metadata": {},
   "outputs": [
    {
     "name": "stdout",
     "output_type": "stream",
     "text": [
      "Epoch 1/50\n",
      "32/32 [==============================] - 1s 10ms/step - loss: 0.5539 - accuracy: 0.7210 - val_loss: 0.5144 - val_accuracy: 0.7338\n",
      "Epoch 2/50\n",
      "32/32 [==============================] - 0s 4ms/step - loss: 0.4957 - accuracy: 0.7420 - val_loss: 0.5413 - val_accuracy: 0.7098\n",
      "Epoch 3/50\n",
      "32/32 [==============================] - 0s 4ms/step - loss: 0.4831 - accuracy: 0.7530 - val_loss: 0.8122 - val_accuracy: 0.5707\n",
      "Epoch 4/50\n",
      "32/32 [==============================] - 0s 4ms/step - loss: 0.5057 - accuracy: 0.7370 - val_loss: 0.5483 - val_accuracy: 0.7074\n",
      "Epoch 5/50\n",
      "32/32 [==============================] - 0s 4ms/step - loss: 0.4727 - accuracy: 0.7630 - val_loss: 0.5359 - val_accuracy: 0.7074\n",
      "Epoch 6/50\n",
      "32/32 [==============================] - 0s 4ms/step - loss: 0.4651 - accuracy: 0.7680 - val_loss: 0.5105 - val_accuracy: 0.7122\n",
      "Epoch 7/50\n",
      "32/32 [==============================] - 0s 4ms/step - loss: 0.4665 - accuracy: 0.7600 - val_loss: 0.5290 - val_accuracy: 0.7338\n",
      "Epoch 8/50\n",
      "32/32 [==============================] - 0s 4ms/step - loss: 0.4737 - accuracy: 0.7470 - val_loss: 0.5147 - val_accuracy: 0.7482\n",
      "Epoch 9/50\n",
      "32/32 [==============================] - 0s 4ms/step - loss: 0.4628 - accuracy: 0.7590 - val_loss: 0.5870 - val_accuracy: 0.6691\n",
      "Epoch 10/50\n",
      "32/32 [==============================] - 0s 3ms/step - loss: 0.4669 - accuracy: 0.7520 - val_loss: 0.5016 - val_accuracy: 0.7506\n",
      "Epoch 11/50\n",
      "32/32 [==============================] - 0s 4ms/step - loss: 0.4539 - accuracy: 0.7710 - val_loss: 0.5187 - val_accuracy: 0.7458\n",
      "Epoch 12/50\n",
      "32/32 [==============================] - 0s 4ms/step - loss: 0.4635 - accuracy: 0.7560 - val_loss: 0.5444 - val_accuracy: 0.7050\n",
      "Epoch 13/50\n",
      "32/32 [==============================] - 0s 4ms/step - loss: 0.4563 - accuracy: 0.7680 - val_loss: 0.5053 - val_accuracy: 0.7194\n",
      "Epoch 14/50\n",
      "32/32 [==============================] - 0s 4ms/step - loss: 0.4530 - accuracy: 0.7680 - val_loss: 0.5394 - val_accuracy: 0.7266\n",
      "Epoch 15/50\n",
      "32/32 [==============================] - 0s 4ms/step - loss: 0.4521 - accuracy: 0.7640 - val_loss: 0.5076 - val_accuracy: 0.7266\n",
      "Epoch 15: early stopping\n"
     ]
    }
   ],
   "source": [
    "np.random.seed(42)\n",
    "tf.random.set_seed(42)\n",
    "\n",
    "optimizer = tf.keras.optimizers.Nadam(learning_rate=0.01)\n",
    "\n",
    "# If multiclass, use \"sparse_categorical_crossentropy\" as the loss function\n",
    "model.compile(loss=\"binary_crossentropy\", optimizer=optimizer, metrics=['accuracy'])\n",
    "\n",
    "\n",
    "history = model.fit(train_inputs, train_target, epochs=50,\n",
    "                    validation_data=(test_inputs, test_target), callbacks=callback)"
   ]
  },
  {
   "cell_type": "code",
   "execution_count": 23,
   "metadata": {},
   "outputs": [
    {
     "name": "stdout",
     "output_type": "stream",
     "text": [
      "loss: 0.51\n",
      "accuracy: 72.66%\n"
     ]
    }
   ],
   "source": [
    "# evaluate the model\n",
    "\n",
    "scores = model.evaluate(test_inputs, test_target, verbose=0)\n",
    "scores\n",
    "\n",
    "print(\"%s: %.2f\" % (model.metrics_names[0], scores[0]))\n",
    "print(\"%s: %.2f%%\" % (model.metrics_names[1], scores[1]*100))\n",
    "\n",
    "# This is the best model so far."
   ]
  },
  {
   "cell_type": "markdown",
   "metadata": {},
   "source": [
    "# Build a simple RNN with two or more layers"
   ]
  },
  {
   "cell_type": "code",
   "execution_count": 24,
   "metadata": {},
   "outputs": [],
   "source": [
    "n_steps = 12\n",
    "n_inputs = 1\n",
    "\n",
    "\n",
    "model = keras.models.Sequential([\n",
    "    keras.layers.SimpleRNN(12, return_sequences=True, input_shape=[n_steps, n_inputs] ),\n",
    "    keras.layers.SimpleRNN(22, return_sequences=True),\n",
    "    keras.layers.SimpleRNN(32), \n",
    "    keras.layers.Dense(1, activation='sigmoid')  \n",
    "])\n"
   ]
  },
  {
   "cell_type": "code",
   "execution_count": 25,
   "metadata": {},
   "outputs": [
    {
     "name": "stdout",
     "output_type": "stream",
     "text": [
      "Epoch 1/20\n",
      "32/32 [==============================] - 3s 19ms/step - loss: 0.6534 - accuracy: 0.6260 - val_loss: 0.6593 - val_accuracy: 0.6691\n",
      "Epoch 2/20\n",
      "32/32 [==============================] - 0s 7ms/step - loss: 0.5499 - accuracy: 0.7080 - val_loss: 0.6406 - val_accuracy: 0.6715\n",
      "Epoch 3/20\n",
      "32/32 [==============================] - 0s 7ms/step - loss: 0.5162 - accuracy: 0.7330 - val_loss: 1.1616 - val_accuracy: 0.5228\n",
      "Epoch 4/20\n",
      "32/32 [==============================] - 0s 7ms/step - loss: 0.5483 - accuracy: 0.7220 - val_loss: 0.5380 - val_accuracy: 0.7146\n",
      "Epoch 5/20\n",
      "32/32 [==============================] - 0s 7ms/step - loss: 0.4827 - accuracy: 0.7670 - val_loss: 0.5690 - val_accuracy: 0.7026\n",
      "Epoch 6/20\n",
      "32/32 [==============================] - 0s 7ms/step - loss: 0.4682 - accuracy: 0.7580 - val_loss: 0.5239 - val_accuracy: 0.7122\n",
      "Epoch 7/20\n",
      "32/32 [==============================] - 0s 7ms/step - loss: 0.4738 - accuracy: 0.7670 - val_loss: 0.5350 - val_accuracy: 0.7506\n",
      "Epoch 8/20\n",
      "32/32 [==============================] - 0s 7ms/step - loss: 0.4877 - accuracy: 0.7540 - val_loss: 0.5769 - val_accuracy: 0.6835\n",
      "Epoch 9/20\n",
      "32/32 [==============================] - 0s 7ms/step - loss: 0.4643 - accuracy: 0.7570 - val_loss: 0.7656 - val_accuracy: 0.6019\n",
      "Epoch 10/20\n",
      "32/32 [==============================] - 0s 7ms/step - loss: 0.4626 - accuracy: 0.7700 - val_loss: 0.5214 - val_accuracy: 0.7194\n",
      "Epoch 11/20\n",
      "32/32 [==============================] - 0s 7ms/step - loss: 0.4432 - accuracy: 0.7800 - val_loss: 0.5327 - val_accuracy: 0.7434\n",
      "Epoch 12/20\n",
      "32/32 [==============================] - 0s 7ms/step - loss: 0.4431 - accuracy: 0.7790 - val_loss: 0.5888 - val_accuracy: 0.7050\n",
      "Epoch 13/20\n",
      "32/32 [==============================] - 0s 7ms/step - loss: 0.4395 - accuracy: 0.7780 - val_loss: 0.5036 - val_accuracy: 0.7482\n",
      "Epoch 14/20\n",
      "32/32 [==============================] - 0s 7ms/step - loss: 0.4651 - accuracy: 0.7790 - val_loss: 0.5638 - val_accuracy: 0.7170\n",
      "Epoch 15/20\n",
      "32/32 [==============================] - 0s 7ms/step - loss: 0.4388 - accuracy: 0.7840 - val_loss: 0.5727 - val_accuracy: 0.7074\n",
      "Epoch 16/20\n",
      "32/32 [==============================] - 0s 7ms/step - loss: 0.4421 - accuracy: 0.7810 - val_loss: 0.5067 - val_accuracy: 0.7578\n",
      "Epoch 17/20\n",
      "32/32 [==============================] - 0s 7ms/step - loss: 0.4142 - accuracy: 0.7920 - val_loss: 0.8600 - val_accuracy: 0.6043\n",
      "Epoch 18/20\n",
      "32/32 [==============================] - 0s 7ms/step - loss: 0.4682 - accuracy: 0.7640 - val_loss: 0.5780 - val_accuracy: 0.7170\n",
      "Epoch 18: early stopping\n"
     ]
    }
   ],
   "source": [
    "np.random.seed(42)\n",
    "tf.random.set_seed(42)\n",
    "\n",
    "optimizer = keras.optimizers.Nadam(learning_rate=0.01)\n",
    "\n",
    "model.compile(loss=\"binary_crossentropy\", optimizer=optimizer, metrics=['accuracy'])\n",
    "\n",
    "history = model.fit(train_inputs, train_target, epochs=20,\n",
    "                   validation_data = (test_inputs, test_target), callbacks=callback)"
   ]
  },
  {
   "cell_type": "code",
   "execution_count": 26,
   "metadata": {},
   "outputs": [
    {
     "name": "stdout",
     "output_type": "stream",
     "text": [
      "loss: 0.58\n",
      "accuracy: 71.70%\n"
     ]
    }
   ],
   "source": [
    "# evaluate the model\n",
    "\n",
    "scores = model.evaluate(test_inputs, test_target, verbose=0)\n",
    "scores\n",
    "\n",
    "print(\"%s: %.2f\" % (model.metrics_names[0], scores[0]))\n",
    "print(\"%s: %.2f%%\" % (model.metrics_names[1], scores[1]*100))\n",
    "\n",
    "# This is not as good as the simple RNN"
   ]
  },
  {
   "cell_type": "markdown",
   "metadata": {},
   "source": [
    "# Build a LSTM with one layer"
   ]
  },
  {
   "cell_type": "code",
   "execution_count": 27,
   "metadata": {},
   "outputs": [],
   "source": [
    "n_steps = 12\n",
    "n_inputs = 1\n",
    "\n",
    "model = keras.models.Sequential([\n",
    "    \n",
    "    keras.layers.LSTM(12, input_shape=[n_steps, n_inputs]),\n",
    "    keras.layers.Dense(1, activation='sigmoid')\n",
    "])"
   ]
  },
  {
   "cell_type": "code",
   "execution_count": 28,
   "metadata": {},
   "outputs": [
    {
     "name": "stdout",
     "output_type": "stream",
     "text": [
      "Epoch 1/20\n",
      "32/32 [==============================] - 2s 18ms/step - loss: 0.5956 - accuracy: 0.6750 - val_loss: 0.5621 - val_accuracy: 0.7242\n",
      "Epoch 2/20\n",
      "32/32 [==============================] - 0s 6ms/step - loss: 0.5056 - accuracy: 0.7400 - val_loss: 0.6142 - val_accuracy: 0.6835\n",
      "Epoch 3/20\n",
      "32/32 [==============================] - 0s 5ms/step - loss: 0.4898 - accuracy: 0.7500 - val_loss: 0.7647 - val_accuracy: 0.5875\n",
      "Epoch 4/20\n",
      "32/32 [==============================] - 0s 5ms/step - loss: 0.4776 - accuracy: 0.7560 - val_loss: 0.5371 - val_accuracy: 0.7170\n",
      "Epoch 5/20\n",
      "32/32 [==============================] - 0s 5ms/step - loss: 0.4717 - accuracy: 0.7610 - val_loss: 0.5374 - val_accuracy: 0.7098\n",
      "Epoch 6/20\n",
      "32/32 [==============================] - 0s 5ms/step - loss: 0.4646 - accuracy: 0.7610 - val_loss: 0.5187 - val_accuracy: 0.7050\n",
      "Epoch 7/20\n",
      "32/32 [==============================] - 0s 5ms/step - loss: 0.4664 - accuracy: 0.7610 - val_loss: 0.5253 - val_accuracy: 0.7554\n",
      "Epoch 8/20\n",
      "32/32 [==============================] - 0s 5ms/step - loss: 0.4677 - accuracy: 0.7560 - val_loss: 0.5085 - val_accuracy: 0.7362\n",
      "Epoch 9/20\n",
      "32/32 [==============================] - 0s 5ms/step - loss: 0.4633 - accuracy: 0.7530 - val_loss: 0.5675 - val_accuracy: 0.7194\n",
      "Epoch 10/20\n",
      "32/32 [==============================] - 0s 5ms/step - loss: 0.4651 - accuracy: 0.7530 - val_loss: 0.5062 - val_accuracy: 0.7410\n",
      "Epoch 11/20\n",
      "32/32 [==============================] - 0s 6ms/step - loss: 0.4584 - accuracy: 0.7630 - val_loss: 0.5140 - val_accuracy: 0.7674\n",
      "Epoch 12/20\n",
      "32/32 [==============================] - 0s 5ms/step - loss: 0.4653 - accuracy: 0.7530 - val_loss: 0.5323 - val_accuracy: 0.7074\n",
      "Epoch 13/20\n",
      "32/32 [==============================] - 0s 5ms/step - loss: 0.4615 - accuracy: 0.7640 - val_loss: 0.5196 - val_accuracy: 0.7218\n",
      "Epoch 14/20\n",
      "32/32 [==============================] - 0s 5ms/step - loss: 0.4592 - accuracy: 0.7620 - val_loss: 0.5188 - val_accuracy: 0.7626\n",
      "Epoch 15/20\n",
      "32/32 [==============================] - 0s 5ms/step - loss: 0.4562 - accuracy: 0.7720 - val_loss: 0.5216 - val_accuracy: 0.7218\n",
      "Epoch 15: early stopping\n"
     ]
    }
   ],
   "source": [
    "np.random.seed(42)\n",
    "tf.random.set_seed(42)\n",
    "\n",
    "optimizer = keras.optimizers.Nadam(learning_rate=0.01)\n",
    "\n",
    "model.compile(loss=\"binary_crossentropy\", optimizer=optimizer, metrics=['accuracy'])\n",
    "\n",
    "history = model.fit(train_inputs, train_target, epochs=20,\n",
    "                   validation_data = (test_inputs, test_target), callbacks=callback)"
   ]
  },
  {
   "cell_type": "code",
   "execution_count": 29,
   "metadata": {},
   "outputs": [
    {
     "name": "stdout",
     "output_type": "stream",
     "text": [
      "loss: 0.52\n",
      "accuracy: 72.18%\n"
     ]
    }
   ],
   "source": [
    "# evaluate the model\n",
    "\n",
    "scores = model.evaluate(test_inputs, test_target, verbose=0)\n",
    "scores\n",
    "\n",
    "print(\"%s: %.2f\" % (model.metrics_names[0], scores[0]))\n",
    "print(\"%s: %.2f%%\" % (model.metrics_names[1], scores[1]*100))\n",
    "\n",
    "# Best model so far."
   ]
  },
  {
   "cell_type": "markdown",
   "metadata": {},
   "source": [
    "# Build a LSTM with two or more layers"
   ]
  },
  {
   "cell_type": "code",
   "execution_count": 30,
   "metadata": {},
   "outputs": [],
   "source": [
    "n_steps = 12\n",
    "n_inputs = 1\n",
    "\n",
    "model = keras.models.Sequential([\n",
    "    keras.layers.LSTM(12, return_sequences=True, input_shape=[n_steps, n_inputs]),\n",
    "    keras.layers.LSTM(12, return_sequences=True),\n",
    "    keras.layers.LSTM(12),\n",
    "    keras.layers.Dense(1, activation='sigmoid')\n",
    "])"
   ]
  },
  {
   "cell_type": "code",
   "execution_count": 31,
   "metadata": {},
   "outputs": [
    {
     "name": "stdout",
     "output_type": "stream",
     "text": [
      "Epoch 1/20\n",
      "32/32 [==============================] - 5s 42ms/step - loss: 0.6229 - accuracy: 0.6460 - val_loss: 0.6533 - val_accuracy: 0.6331\n",
      "Epoch 2/20\n",
      "32/32 [==============================] - 0s 13ms/step - loss: 0.5545 - accuracy: 0.7190 - val_loss: 0.6651 - val_accuracy: 0.6475\n",
      "Epoch 3/20\n",
      "32/32 [==============================] - 0s 13ms/step - loss: 0.5315 - accuracy: 0.7340 - val_loss: 0.9075 - val_accuracy: 0.5324\n",
      "Epoch 4/20\n",
      "32/32 [==============================] - 0s 13ms/step - loss: 0.5259 - accuracy: 0.7360 - val_loss: 0.5386 - val_accuracy: 0.7098\n",
      "Epoch 5/20\n",
      "32/32 [==============================] - 0s 13ms/step - loss: 0.4911 - accuracy: 0.7590 - val_loss: 0.5611 - val_accuracy: 0.7026\n",
      "Epoch 6/20\n",
      "32/32 [==============================] - 0s 13ms/step - loss: 0.4730 - accuracy: 0.7590 - val_loss: 0.5141 - val_accuracy: 0.7098\n",
      "Epoch 7/20\n",
      "32/32 [==============================] - 0s 13ms/step - loss: 0.4714 - accuracy: 0.7500 - val_loss: 0.5426 - val_accuracy: 0.7530\n",
      "Epoch 8/20\n",
      "32/32 [==============================] - 0s 13ms/step - loss: 0.4737 - accuracy: 0.7480 - val_loss: 0.5148 - val_accuracy: 0.7650\n",
      "Epoch 9/20\n",
      "32/32 [==============================] - 0s 13ms/step - loss: 0.4628 - accuracy: 0.7420 - val_loss: 0.5839 - val_accuracy: 0.6715\n",
      "Epoch 10/20\n",
      "32/32 [==============================] - 0s 13ms/step - loss: 0.4621 - accuracy: 0.7490 - val_loss: 0.5005 - val_accuracy: 0.7554\n",
      "Epoch 11/20\n",
      "32/32 [==============================] - 0s 13ms/step - loss: 0.4518 - accuracy: 0.7650 - val_loss: 0.5275 - val_accuracy: 0.7386\n",
      "Epoch 12/20\n",
      "32/32 [==============================] - 0s 13ms/step - loss: 0.4621 - accuracy: 0.7630 - val_loss: 0.6086 - val_accuracy: 0.6954\n",
      "Epoch 13/20\n",
      "32/32 [==============================] - 0s 13ms/step - loss: 0.4629 - accuracy: 0.7600 - val_loss: 0.4959 - val_accuracy: 0.7242\n",
      "Epoch 14/20\n",
      "32/32 [==============================] - 0s 12ms/step - loss: 0.4459 - accuracy: 0.7640 - val_loss: 0.5408 - val_accuracy: 0.7434\n",
      "Epoch 15/20\n",
      "32/32 [==============================] - 0s 13ms/step - loss: 0.4442 - accuracy: 0.7770 - val_loss: 0.5499 - val_accuracy: 0.7146\n",
      "Epoch 16/20\n",
      "32/32 [==============================] - 0s 12ms/step - loss: 0.4506 - accuracy: 0.7640 - val_loss: 0.5007 - val_accuracy: 0.7578\n",
      "Epoch 17/20\n",
      "32/32 [==============================] - 0s 12ms/step - loss: 0.4403 - accuracy: 0.7780 - val_loss: 0.7219 - val_accuracy: 0.6691\n",
      "Epoch 18/20\n",
      "32/32 [==============================] - 0s 13ms/step - loss: 0.4484 - accuracy: 0.7590 - val_loss: 0.5075 - val_accuracy: 0.7770\n",
      "Epoch 18: early stopping\n"
     ]
    }
   ],
   "source": [
    "np.random.seed(42)\n",
    "tf.random.set_seed(42)\n",
    "\n",
    "optimizer = keras.optimizers.Nadam(learning_rate=0.01)\n",
    "\n",
    "model.compile(loss=\"binary_crossentropy\", optimizer=optimizer, metrics=['accuracy'])\n",
    "\n",
    "history = model.fit(train_inputs, train_target, epochs=20,\n",
    "                   validation_data = (test_inputs, test_target), callbacks=callback)"
   ]
  },
  {
   "cell_type": "code",
   "execution_count": 32,
   "metadata": {},
   "outputs": [
    {
     "name": "stdout",
     "output_type": "stream",
     "text": [
      "loss: 0.51\n",
      "accuracy: 77.70%\n"
     ]
    }
   ],
   "source": [
    "# evaluate the model\n",
    "\n",
    "scores = model.evaluate(test_inputs, test_target, verbose=0)\n",
    "scores\n",
    "\n",
    "print(\"%s: %.2f\" % (model.metrics_names[0], scores[0]))\n",
    "print(\"%s: %.2f%%\" % (model.metrics_names[1], scores[1]*100))\n",
    "\n",
    "# Worse NN model"
   ]
  },
  {
   "cell_type": "markdown",
   "metadata": {},
   "source": [
    "# Build a GRU with one layer"
   ]
  },
  {
   "cell_type": "code",
   "execution_count": 33,
   "metadata": {},
   "outputs": [],
   "source": [
    "n_steps = 12\n",
    "n_inputs = 1\n",
    "\n",
    "model = keras.models.Sequential([\n",
    "    keras.layers.GRU(20, input_shape=[n_steps, n_inputs]),\n",
    "    keras.layers.Dense(1, activation='sigmoid')\n",
    "])"
   ]
  },
  {
   "cell_type": "code",
   "execution_count": 34,
   "metadata": {},
   "outputs": [
    {
     "name": "stdout",
     "output_type": "stream",
     "text": [
      "Epoch 1/20\n",
      "32/32 [==============================] - 2s 18ms/step - loss: 0.6199 - accuracy: 0.6340 - val_loss: 0.5543 - val_accuracy: 0.7314\n",
      "Epoch 2/20\n",
      "32/32 [==============================] - 0s 6ms/step - loss: 0.5118 - accuracy: 0.7300 - val_loss: 0.5957 - val_accuracy: 0.7002\n",
      "Epoch 3/20\n",
      "32/32 [==============================] - 0s 6ms/step - loss: 0.4804 - accuracy: 0.7450 - val_loss: 0.9393 - val_accuracy: 0.5612\n",
      "Epoch 4/20\n",
      "32/32 [==============================] - 0s 6ms/step - loss: 0.4763 - accuracy: 0.7440 - val_loss: 0.5414 - val_accuracy: 0.7050\n",
      "Epoch 5/20\n",
      "32/32 [==============================] - 0s 6ms/step - loss: 0.4662 - accuracy: 0.7530 - val_loss: 0.5464 - val_accuracy: 0.7098\n",
      "Epoch 6/20\n",
      "32/32 [==============================] - 0s 6ms/step - loss: 0.4576 - accuracy: 0.7560 - val_loss: 0.5163 - val_accuracy: 0.7098\n",
      "Epoch 7/20\n",
      "32/32 [==============================] - 0s 5ms/step - loss: 0.4623 - accuracy: 0.7490 - val_loss: 0.5207 - val_accuracy: 0.7626\n",
      "Epoch 8/20\n",
      "32/32 [==============================] - 0s 6ms/step - loss: 0.4635 - accuracy: 0.7500 - val_loss: 0.5060 - val_accuracy: 0.7578\n",
      "Epoch 9/20\n",
      "32/32 [==============================] - 0s 6ms/step - loss: 0.4581 - accuracy: 0.7480 - val_loss: 0.5851 - val_accuracy: 0.6906\n",
      "Epoch 10/20\n",
      "32/32 [==============================] - 0s 6ms/step - loss: 0.4592 - accuracy: 0.7540 - val_loss: 0.4994 - val_accuracy: 0.7506\n",
      "Epoch 11/20\n",
      "32/32 [==============================] - 0s 6ms/step - loss: 0.4512 - accuracy: 0.7680 - val_loss: 0.5061 - val_accuracy: 0.7602\n",
      "Epoch 12/20\n",
      "32/32 [==============================] - 0s 6ms/step - loss: 0.4579 - accuracy: 0.7620 - val_loss: 0.5229 - val_accuracy: 0.7146\n",
      "Epoch 13/20\n",
      "32/32 [==============================] - 0s 6ms/step - loss: 0.4527 - accuracy: 0.7570 - val_loss: 0.5101 - val_accuracy: 0.7266\n",
      "Epoch 14/20\n",
      "32/32 [==============================] - 0s 6ms/step - loss: 0.4506 - accuracy: 0.7630 - val_loss: 0.5161 - val_accuracy: 0.7506\n",
      "Epoch 15/20\n",
      "32/32 [==============================] - 0s 6ms/step - loss: 0.4484 - accuracy: 0.7760 - val_loss: 0.5150 - val_accuracy: 0.7290\n",
      "Epoch 15: early stopping\n"
     ]
    }
   ],
   "source": [
    "np.random.seed(42)\n",
    "tf.random.set_seed(42)\n",
    "\n",
    "optimizer = keras.optimizers.Nadam(learning_rate=0.01)\n",
    "\n",
    "model.compile(loss=\"binary_crossentropy\", optimizer=optimizer, metrics=['accuracy'])\n",
    "\n",
    "history = model.fit(train_inputs, train_target, epochs=20,\n",
    "                   validation_data = (test_inputs, test_target), callbacks=callback)"
   ]
  },
  {
   "cell_type": "code",
   "execution_count": 35,
   "metadata": {},
   "outputs": [
    {
     "name": "stdout",
     "output_type": "stream",
     "text": [
      "loss: 0.52\n",
      "accuracy: 72.90%\n"
     ]
    }
   ],
   "source": [
    "# evaluate the model\n",
    "\n",
    "scores = model.evaluate(test_inputs, test_target, verbose=0)\n",
    "scores\n",
    "\n",
    "print(\"%s: %.2f\" % (model.metrics_names[0], scores[0]))\n",
    "print(\"%s: %.2f%%\" % (model.metrics_names[1], scores[1]*100))"
   ]
  },
  {
   "cell_type": "markdown",
   "metadata": {},
   "source": [
    "# Build a GRU with two or more layers"
   ]
  },
  {
   "cell_type": "code",
   "execution_count": 36,
   "metadata": {},
   "outputs": [],
   "source": [
    "n_steps = 12\n",
    "n_inputs = 1\n",
    "\n",
    "model = keras.models.Sequential([\n",
    "    keras.layers.GRU(10, return_sequences=True, input_shape=[n_steps, n_inputs]),\n",
    "    keras.layers.GRU(10, return_sequences=True),\n",
    "    keras.layers.GRU(10),\n",
    "    keras.layers.Dense(1, activation='sigmoid')\n",
    "])"
   ]
  },
  {
   "cell_type": "code",
   "execution_count": 37,
   "metadata": {},
   "outputs": [
    {
     "name": "stdout",
     "output_type": "stream",
     "text": [
      "Epoch 1/20\n",
      "32/32 [==============================] - 6s 42ms/step - loss: 0.5866 - accuracy: 0.6860 - val_loss: 0.5607 - val_accuracy: 0.7314\n",
      "Epoch 2/20\n",
      "32/32 [==============================] - 0s 14ms/step - loss: 0.5140 - accuracy: 0.7350 - val_loss: 0.6104 - val_accuracy: 0.6954\n",
      "Epoch 3/20\n",
      "32/32 [==============================] - 0s 13ms/step - loss: 0.4944 - accuracy: 0.7430 - val_loss: 0.9437 - val_accuracy: 0.5444\n",
      "Epoch 4/20\n",
      "32/32 [==============================] - 0s 13ms/step - loss: 0.5122 - accuracy: 0.7330 - val_loss: 0.5340 - val_accuracy: 0.7122\n",
      "Epoch 5/20\n",
      "32/32 [==============================] - 0s 13ms/step - loss: 0.4771 - accuracy: 0.7530 - val_loss: 0.5609 - val_accuracy: 0.7122\n",
      "Epoch 6/20\n",
      "32/32 [==============================] - 0s 12ms/step - loss: 0.4680 - accuracy: 0.7620 - val_loss: 0.5216 - val_accuracy: 0.7242\n",
      "Epoch 7/20\n",
      "32/32 [==============================] - 0s 12ms/step - loss: 0.4686 - accuracy: 0.7510 - val_loss: 0.5442 - val_accuracy: 0.7554\n",
      "Epoch 8/20\n",
      "32/32 [==============================] - 0s 12ms/step - loss: 0.4727 - accuracy: 0.7520 - val_loss: 0.5112 - val_accuracy: 0.7602\n",
      "Epoch 9/20\n",
      "32/32 [==============================] - 0s 13ms/step - loss: 0.4636 - accuracy: 0.7480 - val_loss: 0.6108 - val_accuracy: 0.6763\n",
      "Epoch 10/20\n",
      "32/32 [==============================] - 0s 12ms/step - loss: 0.4633 - accuracy: 0.7550 - val_loss: 0.5012 - val_accuracy: 0.7338\n",
      "Epoch 11/20\n",
      "32/32 [==============================] - 0s 12ms/step - loss: 0.4536 - accuracy: 0.7610 - val_loss: 0.5255 - val_accuracy: 0.7506\n",
      "Epoch 12/20\n",
      "32/32 [==============================] - 0s 13ms/step - loss: 0.4640 - accuracy: 0.7600 - val_loss: 0.5250 - val_accuracy: 0.7218\n",
      "Epoch 13/20\n",
      "32/32 [==============================] - 0s 12ms/step - loss: 0.4591 - accuracy: 0.7610 - val_loss: 0.4986 - val_accuracy: 0.7290\n",
      "Epoch 14/20\n",
      "32/32 [==============================] - 0s 13ms/step - loss: 0.4498 - accuracy: 0.7670 - val_loss: 0.5287 - val_accuracy: 0.7458\n",
      "Epoch 15/20\n",
      "32/32 [==============================] - 0s 13ms/step - loss: 0.4528 - accuracy: 0.7670 - val_loss: 0.5226 - val_accuracy: 0.7170\n",
      "Epoch 16/20\n",
      "32/32 [==============================] - 0s 12ms/step - loss: 0.4530 - accuracy: 0.7560 - val_loss: 0.5013 - val_accuracy: 0.7482\n",
      "Epoch 17/20\n",
      "32/32 [==============================] - 0s 12ms/step - loss: 0.4414 - accuracy: 0.7720 - val_loss: 0.6913 - val_accuracy: 0.6547\n",
      "Epoch 18/20\n",
      "32/32 [==============================] - 0s 13ms/step - loss: 0.4583 - accuracy: 0.7630 - val_loss: 0.5133 - val_accuracy: 0.7602\n",
      "Epoch 18: early stopping\n"
     ]
    }
   ],
   "source": [
    "np.random.seed(42)\n",
    "tf.random.set_seed(42)\n",
    "\n",
    "optimizer = keras.optimizers.Nadam(learning_rate=0.01)\n",
    "\n",
    "model.compile(loss=\"binary_crossentropy\", optimizer=optimizer, metrics=['accuracy'])\n",
    "\n",
    "history = model.fit(train_inputs, train_target, epochs=20,\n",
    "                   validation_data = (test_inputs, test_target), callbacks=callback)"
   ]
  },
  {
   "cell_type": "code",
   "execution_count": 38,
   "metadata": {},
   "outputs": [
    {
     "name": "stdout",
     "output_type": "stream",
     "text": [
      "loss: 0.51\n",
      "accuracy: 76.02%\n"
     ]
    }
   ],
   "source": [
    "# evaluate the model\n",
    "\n",
    "scores = model.evaluate(test_inputs, test_target, verbose=0)\n",
    "scores\n",
    "\n",
    "print(\"%s: %.2f\" % (model.metrics_names[0], scores[0]))\n",
    "print(\"%s: %.2f%%\" % (model.metrics_names[1], scores[1]*100))\n",
    "\n",
    "# This final model is the best, edging LSTM with one layer"
   ]
  },
  {
   "cell_type": "code",
   "execution_count": null,
   "metadata": {},
   "outputs": [],
   "source": []
  }
 ],
 "metadata": {
  "kernelspec": {
   "display_name": "Python 3 (ipykernel)",
   "language": "python",
   "name": "python3"
  },
  "language_info": {
   "codemirror_mode": {
    "name": "ipython",
    "version": 3
   },
   "file_extension": ".py",
   "mimetype": "text/x-python",
   "name": "python",
   "nbconvert_exporter": "python",
   "pygments_lexer": "ipython3",
   "version": "3.10.9"
  },
  "nav_menu": {},
  "toc": {
   "base_numbering": 1,
   "nav_menu": {},
   "number_sections": false,
   "sideBar": true,
   "skip_h1_title": false,
   "title_cell": "Table of Contents",
   "title_sidebar": "Contents",
   "toc_cell": false,
   "toc_position": {},
   "toc_section_display": "block",
   "toc_window_display": false
  },
  "varInspector": {
   "cols": {
    "lenName": 16,
    "lenType": 16,
    "lenVar": 40
   },
   "kernels_config": {
    "python": {
     "delete_cmd_postfix": "",
     "delete_cmd_prefix": "del ",
     "library": "var_list.py",
     "varRefreshCmd": "print(var_dic_list())"
    },
    "r": {
     "delete_cmd_postfix": ") ",
     "delete_cmd_prefix": "rm(",
     "library": "var_list.r",
     "varRefreshCmd": "cat(var_dic_list()) "
    }
   },
   "types_to_exclude": [
    "module",
    "function",
    "builtin_function_or_method",
    "instance",
    "_Feature"
   ],
   "window_display": false
  }
 },
 "nbformat": 4,
 "nbformat_minor": 1
}
